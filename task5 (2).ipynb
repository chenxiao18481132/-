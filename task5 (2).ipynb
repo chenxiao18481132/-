{
  "nbformat": 4,
  "nbformat_minor": 0,
  "metadata": {
    "colab": {
      "name": "task5.ipynb",
      "provenance": []
    },
    "kernelspec": {
      "name": "python3",
      "display_name": "Python 3"
    }
  },
  "cells": [
    {
      "cell_type": "code",
      "metadata": {
        "id": "fLGnsNHUSe_6",
        "colab_type": "code",
        "colab": {}
      },
      "source": [
        "import numpy as np\n",
        "import pandas as pd\n",
        "import matplotlib.pyplot as plt\n",
        "import warnings\n",
        "\n",
        "%matplotlib inline\n",
        "warnings.filterwarnings('ignore')\n",
        "import matplotlib as mpl\n",
        "zhfont = mpl.font_manager.FontProperties(fname='SimHei.ttf')\n",
        "zhfont.set_family('SimHei')\n",
        "zhfont.set_size(11)\n",
        "zhfont.get_family()\n",
        "\n",
        "data = pd.read_csv('Speed Dating Data.csv', encoding='gbk')\n",
        "columns=['dec','gender','attr','sinc','intel','fun','amb','shar']\n",
        "female = data.loc[data['gender']==0, columns]\n",
        "male = data.loc[data['gender']==1, columns]"
      ],
      "execution_count": 14,
      "outputs": []
    },
    {
      "cell_type": "code",
      "metadata": {
        "id": "0Dp9V839SnAU",
        "colab_type": "code",
        "colab": {}
      },
      "source": [
        "from sklearn.ensemble import RandomForestClassifier\n",
        "from sklearn.model_selection  import train_test_split\n",
        "from sklearn.metrics import roc_curve, auc"
      ],
      "execution_count": 3,
      "outputs": []
    },
    {
      "cell_type": "markdown",
      "metadata": {
        "id": "GM-D6qV0ZbhL",
        "colab_type": "text"
      },
      "source": [
        "# 女性"
      ]
    },
    {
      "cell_type": "code",
      "metadata": {
        "id": "6zHWgYPGTjIe",
        "colab_type": "code",
        "colab": {}
      },
      "source": [
        "forest_female = RandomForestClassifier(n_estimators=1000, random_state=1234, \n",
        "                                       n_jobs=-1)\n",
        "\n",
        "# Discard missing data\n",
        "female_discard_missing = female.loc[np.all(female.notnull(), axis=1), :]  \n",
        "X_female = female_discard_missing[columns[2:]]\n",
        "y_female = female_discard_missing['dec']\n",
        "train_X_female, test_X_female, train_y_female, test_y_female = train_test_split(X_female, \n",
        "                                                                                y_female,\n",
        "                                                                                train_size=0.75,\n",
        "                                                                                random_state=1234,\n",
        "                                                                                shuffle=True)"
      ],
      "execution_count": 12,
      "outputs": []
    },
    {
      "cell_type": "code",
      "metadata": {
        "id": "yhFerR7nUAt-",
        "colab_type": "code",
        "colab": {
          "base_uri": "https://localhost:8080/",
          "height": 159
        },
        "outputId": "85b1b0ac-7cf3-4ec1-d341-554414f4591a"
      },
      "source": [
        "forest_female.fit(train_X_female, train_y_female)"
      ],
      "execution_count": 16,
      "outputs": [
        {
          "output_type": "execute_result",
          "data": {
            "text/plain": [
              "RandomForestClassifier(bootstrap=True, ccp_alpha=0.0, class_weight=None,\n",
              "                       criterion='gini', max_depth=None, max_features='auto',\n",
              "                       max_leaf_nodes=None, max_samples=None,\n",
              "                       min_impurity_decrease=0.0, min_impurity_split=None,\n",
              "                       min_samples_leaf=1, min_samples_split=2,\n",
              "                       min_weight_fraction_leaf=0.0, n_estimators=1000,\n",
              "                       n_jobs=-1, oob_score=False, random_state=1234, verbose=0,\n",
              "                       warm_start=False)"
            ]
          },
          "metadata": {
            "tags": []
          },
          "execution_count": 16
        }
      ]
    },
    {
      "cell_type": "code",
      "metadata": {
        "id": "a1YtnJmOUDzl",
        "colab_type": "code",
        "colab": {}
      },
      "source": [
        "#女性特征重要性排序\n",
        "female_importance = forest_female.feature_importances_\n",
        "column_index = np.argsort(female_importance)  \n",
        "female_importance = sorted(female_importance)  \n"
      ],
      "execution_count": 59,
      "outputs": []
    },
    {
      "cell_type": "code",
      "metadata": {
        "id": "kRGb8ZxHW0hi",
        "colab_type": "code",
        "colab": {
          "base_uri": "https://localhost:8080/",
          "height": 312
        },
        "outputId": "faba9ea5-47b4-4f2c-ab58-9ce16f6d4b3b"
      },
      "source": [
        "\n",
        "import seaborn as sns\n",
        "\n",
        "# Creating a bar plot\n",
        "sns.barplot(x=female_importance, y=female.columns[2:][column_index])\n",
        "\n",
        "plt.xlabel('重要性得分',fontproperties=zhfont)\n",
        "plt.ylabel('Features')\n",
        "plt.title(\"女性相亲影响因素重要性可视图\",fontproperties=zhfont)\n",
        "plt.legend()\n",
        "plt.show()"
      ],
      "execution_count": 61,
      "outputs": [
        {
          "output_type": "stream",
          "text": [
            "No handles with labels found to put in legend.\n"
          ],
          "name": "stderr"
        },
        {
          "output_type": "display_data",
          "data": {
            "image/png": "[encoded data removed]",
            "text/plain": [
              "<Figure size 432x288 with 1 Axes>"
            ]
          },
          "metadata": {
            "tags": [],
            "needs_background": "light"
          }
        }
      ]
    },
    {
      "cell_type": "markdown",
      "metadata": {
        "id": "ZBd1wvH8YU5S",
        "colab_type": "text"
      },
      "source": [
        "对于女性相亲来说，接受拒绝对象的影响因素按重要性排序是吸引力，共同爱好，幽默，sinc，amb,intel."
      ]
    },
    {
      "cell_type": "code",
      "metadata": {
        "id": "uo1XJ3BlWFhS",
        "colab_type": "code",
        "colab": {
          "base_uri": "https://localhost:8080/",
          "height": 295
        },
        "outputId": "795e49c3-4d6c-458f-c115-9c500e6eeb76"
      },
      "source": [
        "prob_y_female = forest_female.predict_proba(test_X_female)\n",
        "fpr, tpr, _ = roc_curve(test_y_female, prob_y_female[:, 1])\n",
        "roc_auc = auc(fpr, tpr)\n",
        "\n",
        "figure = plt.figure(2)\n",
        "plt.title('ROC test--female')\n",
        "plt.plot(fpr, tpr, 'b', label='AUC = %0.2f' % roc_auc)\n",
        "\n",
        "plt.plot([0, 1], [0, 1], 'r--')\n",
        "plt.legend(loc='lower right')\n",
        "plt.xlim([0, 1])\n",
        "plt.ylim([0, 1])\n",
        "plt.ylabel('True Positive Rate')\n",
        "plt.xlabel('False Positive Rate')\n",
        "plt.show()"
      ],
      "execution_count": 47,
      "outputs": [
        {
          "output_type": "display_data",
          "data": {
            "image/png": "[encoded data removed]",
            "text/plain": [
              "<Figure size 432x288 with 1 Axes>"
            ]
          },
          "metadata": {
            "tags": [],
            "needs_background": "light"
          }
        }
      ]
    },
    {
      "cell_type": "code",
      "metadata": {
        "id": "4xqWHR7xgGg1",
        "colab_type": "code",
        "colab": {
          "base_uri": "https://localhost:8080/",
          "height": 35
        },
        "outputId": "397b3b00-872e-4915-ee3c-259bdf30d781"
      },
      "source": [
        "y_pred=forest_female.predict(test_X_female)\n",
        "\n",
        "#Import accuracy_score for accuracy calculation\n",
        "from sklearn.metrics import accuracy_score\n",
        "# Model Accuracy\n",
        "print(\"女性相亲随机森林模型的测试误差为:\",accuracy_score(test_y_female, y_pred))"
      ],
      "execution_count": 48,
      "outputs": [
        {
          "output_type": "stream",
          "text": [
            "女性相亲随机森林模型的测试误差为: 0.6959537572254335\n"
          ],
          "name": "stdout"
        }
      ]
    },
    {
      "cell_type": "markdown",
      "metadata": {
        "id": "zcfCrxZQZgCc",
        "colab_type": "text"
      },
      "source": [
        "# 男性相亲随机森林模型"
      ]
    },
    {
      "cell_type": "code",
      "metadata": {
        "id": "65wQkYHvZmj-",
        "colab_type": "code",
        "colab": {}
      },
      "source": [
        "forest_male = RandomForestClassifier(n_estimators=1000, random_state=1234, \n",
        "                                       n_jobs=-1)\n",
        "\n",
        "# discard missing data\n",
        "male_discard_missing = male.loc[np.all(male.notnull(), axis=1), :]  \n",
        "X_male = male_discard_missing[columns[2:]]\n",
        "y_male = male_discard_missing['dec']\n",
        "train_X_male, test_X_male, train_y_male, test_y_male = train_test_split(X_male, \n",
        "                                                                                y_male,\n",
        "                                                                                train_size=0.75,\n",
        "                                                                                random_state=1234,\n",
        "                                                                                shuffle=True)"
      ],
      "execution_count": 49,
      "outputs": []
    },
    {
      "cell_type": "code",
      "metadata": {
        "id": "4D4DCWVTZ5n6",
        "colab_type": "code",
        "colab": {
          "base_uri": "https://localhost:8080/",
          "height": 159
        },
        "outputId": "1b98be98-68f0-44f1-f8f7-1e30da738fa3"
      },
      "source": [
        "forest_male.fit(train_X_male, train_y_male)"
      ],
      "execution_count": 50,
      "outputs": [
        {
          "output_type": "execute_result",
          "data": {
            "text/plain": [
              "RandomForestClassifier(bootstrap=True, ccp_alpha=0.0, class_weight=None,\n",
              "                       criterion='gini', max_depth=None, max_features='auto',\n",
              "                       max_leaf_nodes=None, max_samples=None,\n",
              "                       min_impurity_decrease=0.0, min_impurity_split=None,\n",
              "                       min_samples_leaf=1, min_samples_split=2,\n",
              "                       min_weight_fraction_leaf=0.0, n_estimators=1000,\n",
              "                       n_jobs=-1, oob_score=False, random_state=1234, verbose=0,\n",
              "                       warm_start=False)"
            ]
          },
          "metadata": {
            "tags": []
          },
          "execution_count": 50
        }
      ]
    },
    {
      "cell_type": "code",
      "metadata": {
        "id": "Ug2xEiHgaDFI",
        "colab_type": "code",
        "colab": {}
      },
      "source": [
        "#男性特征重要性排序\n",
        "male_importance = forest_male.feature_importances_\n",
        "column_index = np.argsort(male_importance) \n",
        "male_importance = sorted(male_importance) \n"
      ],
      "execution_count": 53,
      "outputs": []
    },
    {
      "cell_type": "code",
      "metadata": {
        "id": "5Tn-UwE3aPZr",
        "colab_type": "code",
        "colab": {
          "base_uri": "https://localhost:8080/",
          "height": 312
        },
        "outputId": "db902af0-7288-412f-f2af-52231b8e25b2"
      },
      "source": [
        "\n",
        "\n",
        "\n",
        "# Creating a bar plot\n",
        "sns.barplot(x=male_importance, y=male.columns[2:][column_index])\n",
        "\n",
        "plt.xlabel('重要性得分',fontproperties=zhfont)\n",
        "plt.ylabel('Features')\n",
        "plt.title(\"男性影响因素重要性可视图\",fontproperties=zhfont)\n",
        "plt.legend()\n",
        "plt.show()"
      ],
      "execution_count": 62,
      "outputs": [
        {
          "output_type": "stream",
          "text": [
            "No handles with labels found to put in legend.\n"
          ],
          "name": "stderr"
        },
        {
          "output_type": "display_data",
          "data": {
            "image/png": "[encoded data removed]",
            "text/plain": [
              "<Figure size 432x288 with 1 Axes>"
            ]
          },
          "metadata": {
            "tags": [],
            "needs_background": "light"
          }
        }
      ]
    },
    {
      "cell_type": "markdown",
      "metadata": {
        "id": "_r7DJDXFaiiN",
        "colab_type": "text"
      },
      "source": [
        "对于男性相亲来说，接受拒绝对象的影响因素按重要性由大到小排序是吸引力，共同爱好，幽默，amb,sinc，intel."
      ]
    },
    {
      "cell_type": "code",
      "metadata": {
        "id": "5R1lh805a2EG",
        "colab_type": "code",
        "colab": {
          "base_uri": "https://localhost:8080/",
          "height": 295
        },
        "outputId": "e7fdb009-030e-48b7-f3a5-bcbc40b90d31"
      },
      "source": [
        "prob_y_male = forest_male.predict_proba(test_X_male)\n",
        "fpr, tpr, _ = roc_curve(test_y_male, prob_y_male[:, 1])\n",
        "roc_auc = auc(fpr, tpr)\n",
        "\n",
        "figure = plt.figure(2)\n",
        "plt.title('ROC test--male')\n",
        "plt.plot(fpr, tpr, 'b', label='AUC = %0.2f' % roc_auc)\n",
        "\n",
        "plt.plot([0, 1], [0, 1], 'r--')\n",
        "plt.legend()\n",
        "plt.xlim([0, 1])\n",
        "plt.ylim([0, 1])\n",
        "plt.ylabel('True Positive Rate')\n",
        "plt.xlabel('False Positive Rate')\n",
        "plt.show()"
      ],
      "execution_count": 56,
      "outputs": [
        {
          "output_type": "display_data",
          "data": {
            "image/png": "[encoded data removed]",
            "text/plain": [
              "<Figure size 432x288 with 1 Axes>"
            ]
          },
          "metadata": {
            "tags": [],
            "needs_background": "light"
          }
        }
      ]
    },
    {
      "cell_type": "code",
      "metadata": {
        "id": "zV0VGQRViLcg",
        "colab_type": "code",
        "colab": {
          "base_uri": "https://localhost:8080/",
          "height": 35
        },
        "outputId": "f7ea17cd-de1e-4a37-b1e0-7a31d4dbe37f"
      },
      "source": [
        "y_pred=forest_male.predict(test_X_male)\n",
        "\n",
        "\n",
        "# Model Accuracy\n",
        "print(\"男性相亲随机森林模型的测试误差为:\",accuracy_score(test_y_male, y_pred))"
      ],
      "execution_count": 58,
      "outputs": [
        {
          "output_type": "stream",
          "text": [
            "男性相亲随机森林模型的测试误差为: 0.71875\n"
          ],
          "name": "stdout"
        }
      ]
    }
  ]
}