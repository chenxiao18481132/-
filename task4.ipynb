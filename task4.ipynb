{
  "nbformat": 4,
  "nbformat_minor": 0,
  "metadata": {
    "colab": {
      "name": "Untitled58.ipynb",
      "provenance": [],
      "collapsed_sections": []
    },
    "kernelspec": {
      "name": "python3",
      "display_name": "Python 3"
    }
  },
  "cells": [
    {
      "cell_type": "code",
      "metadata": {
        "id": "pKPExx69mWq2",
        "colab_type": "code",
        "colab": {
          "base_uri": "https://localhost:8080/",
          "height": 35
        },
        "outputId": "b5338b1f-6f36-4490-ab59-8f38fe25e7ef"
      },
      "source": [
        "import numpy as np\n",
        "import pandas as pd\n",
        "import matplotlib.pyplot as plt\n",
        "import warnings\n",
        "\n",
        "%matplotlib inline\n",
        "warnings.filterwarnings('ignore')\n",
        "#coding:utf-8\n",
        "import matplotlib.pyplot as plt\n",
        "\n",
        "import matplotlib.pyplot as plt\n",
        "import matplotlib as mpl\n",
        "zhfont = mpl.font_manager.FontProperties(fname='SimHei.ttf')#设置字体为黑体\n",
        "zhfont.set_family('SimHei')\n",
        "zhfont.set_size(11)\n",
        "zhfont.get_family()"
      ],
      "execution_count": 3,
      "outputs": [
        {
          "output_type": "execute_result",
          "data": {
            "text/plain": [
              "['SimHei']"
            ]
          },
          "metadata": {
            "tags": []
          },
          "execution_count": 3
        }
      ]
    },
    {
      "cell_type": "code",
      "metadata": {
        "id": "_A6PHk9cn9Ob",
        "colab_type": "code",
        "colab": {}
      },
      "source": [
        "data = pd.read_csv('Speed Dating Data.csv', encoding='gbk')"
      ],
      "execution_count": 4,
      "outputs": []
    },
    {
      "cell_type": "code",
      "metadata": {
        "id": "UQ8vawumn5Dg",
        "colab_type": "code",
        "colab": {
          "base_uri": "https://localhost:8080/",
          "height": 350
        },
        "outputId": "99623d51-6d1d-4af6-8637-ca5f8feab72f"
      },
      "source": [
        "figure = plt.figure(1, (12, 5))  # 设置画布\n",
        "\n",
        "data_reject = data[data['dec']==0]  # 最后结果为接受对象\n",
        "data_accept = data[data['dec']==1]  # 最后结果为拒绝对象\n",
        "\n",
        "# 是否接收对象与吸引力的箱图\n",
        "ax1 = plt.subplot(131)  # 1*3分布的画图中的第一个子图\n",
        "\n",
        "# boxplot不接受缺失值Nan，因此先判断 'attr' 属性为不为空的行\n",
        "l1=ax1.boxplot(data_reject.loc[data_reject['attr'].notnull(), 'attr'], sym='', positions=[0], widths=[0.5])\n",
        "\n",
        "ax1.boxplot(data_accept.loc[data_accept['attr'].notnull(), 'attr'], sym='', positions=[1], widths=[0.5])\n",
        "ax1.set_title('吸引力对相亲决策的影响', fontproperties=zhfont)  # 设置标题\n",
        "ax1.set_ylabel('对方的吸引力得分', fontproperties=zhfont)  # 设置纵坐标\n",
        "ax1.set_xlabel('决策：是否接收相亲对象', fontproperties=zhfont)  # 设置横坐标\n",
        "ax1.set_xticklabels([\"拒绝对象\",\"接收对象\"],fontproperties=zhfont)\n",
        "# 是否接收对象与真诚得分的箱图\n",
        "ax2 = plt.subplot(132)\n",
        "l1=ax2.boxplot(data_reject.loc[data_reject['sinc'].notnull(), 'sinc'],  sym='', positions=[0], widths=[0.5])\n",
        "l2=ax2.boxplot(data_accept.loc[data_accept['sinc'].notnull(), 'sinc'],  sym='', positions=[1], widths=[0.5])\n",
        "ax2.set_xticklabels([\"拒绝对象\",\"接收对象\"],fontproperties=zhfont)\n",
        "ax2.set_title('真诚对相亲决策的影响',fontproperties=zhfont)\n",
        "ax2.set_ylabel('对方的真诚得分',fontproperties=zhfont)\n",
        "ax2.set_xlabel('决策：是否接收相亲对象',fontproperties=zhfont)\n",
        "\n",
        "# 是否接受对象与智商得分的箱图\n",
        "ax3 = plt.subplot(133)\n",
        "ax3.boxplot(data_reject.loc[data_reject['intel'].notnull(), 'intel'], sym='', positions=[0], widths=[0.5])\n",
        "ax3.boxplot(data_accept.loc[data_accept['intel'].notnull(), 'intel'], sym='', positions=[1], widths=[0.5])\n",
        "ax3.set_title('智商对相亲决策的影响',fontproperties=zhfont)\n",
        "ax3.set_ylabel('对方的智商得分',fontproperties=zhfont)\n",
        "ax3.set_xlabel('决策：是否接收相亲对象',fontproperties=zhfont)\n",
        "ax3.set_xticklabels([\"拒绝对象\",\"接收对象\"],fontproperties=zhfont)\n",
        "plt.show()"
      ],
      "execution_count": 5,
      "outputs": [
        {
          "output_type": "display_data",
          "data": {
            "image/png": "[encoded data removed]",
            "text/plain": [
              "<Figure size 864x360 with 3 Axes>"
            ]
          },
          "metadata": {
            "tags": [],
            "needs_background": "light"
          }
        }
      ]
    },
    {
      "cell_type": "markdown",
      "metadata": {
        "id": "9U-0-RVNGoFO",
        "colab_type": "text"
      },
      "source": [
        "\n",
        "任务一\n",
        "---\n",
        "\n"
      ]
    },
    {
      "cell_type": "code",
      "metadata": {
        "id": "3aBbA_7d72SL",
        "colab_type": "code",
        "colab": {
          "base_uri": "https://localhost:8080/",
          "height": 350
        },
        "outputId": "20701eb6-6e45-4a1f-e963-c0bbcdd510bb"
      },
      "source": [
        "figure = plt.figure(2, (12, 5))  # 设置画布\n",
        "\n",
        "ax4 = plt.subplot(131)  # 1*3分布的画图中的第一个子图\n",
        "\n",
        "# boxplot不接受缺失值Nan，因此先判断 'attr' 属性为不为空的行\n",
        "ax4.boxplot(data_reject.loc[data_reject['amb'].notnull(), 'amb'], sym='', positions=[0], widths=[0.5])\n",
        "\n",
        "ax4.boxplot(data_accept.loc[data_accept['amb'].notnull(), 'amb'], sym='', positions=[1], widths=[0.5])\n",
        "ax4.set_title('有抱负对相亲决策的影响', fontproperties=zhfont)  # 设置标题\n",
        "ax4.set_ylabel('对方的吸引力得分', fontproperties=zhfont)  # 设置纵坐标\n",
        "ax4.set_xlabel('决策：是否接收相亲对象', fontproperties=zhfont)  # 设置横坐标\n",
        "ax4.set_xticklabels([\"拒绝对象\",\"接收对象\"],fontproperties=zhfont)\n",
        "ax4 = plt.subplot(131)  # 1*3分布的画图中的第一个子图\n",
        "ax5= plt.subplot(132)\n",
        "\n",
        "ax5.boxplot(data_reject.loc[data_reject['fun'].notnull(), 'fun'], sym='', positions=[0], widths=[0.5])\n",
        "\n",
        "ax5.boxplot(data_accept.loc[data_accept['fun'].notnull(), 'fun'], sym='', positions=[1], widths=[0.5])\n",
        "ax5.set_title('幽默对相亲决策的影响', fontproperties=zhfont)  # 设置标题\n",
        "ax5.set_ylabel('对方的吸引力得分', fontproperties=zhfont)  # 设置纵坐标\n",
        "ax5.set_xlabel('决策：是否接收相亲对象', fontproperties=zhfont)  # 设置横坐标\n",
        "ax5.set_xticklabels([\"拒绝对象\",\"接收对象\"],fontproperties=zhfont)\n",
        "\n",
        "\n",
        "ax3 = plt.subplot(133)\n",
        "ax3.boxplot(data_reject.loc[data_reject['shar'].notnull(), 'shar'], sym='', positions=[0], widths=[0.5])\n",
        "ax3.boxplot(data_accept.loc[data_accept['shar'].notnull(), 'shar'], sym='', positions=[1], widths=[0.5])\n",
        "ax3.set_title('共同爱好对相亲决策的影响',fontproperties=zhfont)\n",
        "ax3.set_ylabel('对方的智商得分',fontproperties=zhfont)\n",
        "ax3.set_xlabel('决策：是否接收相亲对象',fontproperties=zhfont)\n",
        "ax3.set_xticklabels([\"拒绝对象\",\"接收对象\"],fontproperties=zhfont)\n",
        "plt.show()"
      ],
      "execution_count": 6,
      "outputs": [
        {
          "output_type": "display_data",
          "data": {
            "image/png": "[encoded data removed]",
            "text/plain": [
              "<Figure size 864x360 with 3 Axes>"
            ]
          },
          "metadata": {
            "tags": [],
            "needs_background": "light"
          }
        }
      ]
    },
    {
      "cell_type": "markdown",
      "metadata": {
        "id": "zqQgDstw940U",
        "colab_type": "text"
      },
      "source": [
        "在幽默和共同爱好上得分高更容易接收对象。有抱负对相亲决策影响相对不大。"
      ]
    },
    {
      "cell_type": "markdown",
      "metadata": {
        "id": "csYzfT8K_Ypu",
        "colab_type": "text"
      },
      "source": [
        "任务二\n",
        "筛选出dec,gender,attr,sinc,intel,fun,amb,shar等主观指标，将其分别命名为“决定”,“性别”,“吸引力”,“真诚”,“智力”,“幽默”,“雄心”,“共同爱好”，将筛选出的数据中的男性数据和女性数据分开，男性数据存为male，女性数据存为female。"
      ]
    },
    {
      "cell_type": "code",
      "metadata": {
        "id": "IVc6GWXJ-sVY",
        "colab_type": "code",
        "colab": {}
      },
      "source": [
        "columns=['dec','gender','attr','sinc','intel','fun','amb','shar']\n",
        "column_dict = {'dec':'决定', 'gender':'性别', 'attr':'吸引力', 'sinc':'真诚', \n",
        "               'intel':'智商', 'fun':'幽默', 'amb':'抱负', 'shar':'共同爱好'}\n",
        "\n",
        "data_4_1 = data[columns]\n",
        "female = data_4_1[data_4_1['gender']==0]\n",
        "male = data_4_1[data_4_1['gender']==1]"
      ],
      "execution_count": 7,
      "outputs": []
    },
    {
      "cell_type": "markdown",
      "metadata": {
        "id": "IQSFYEEA_e1S",
        "colab_type": "text"
      },
      "source": [
        "任务三\n",
        "利用sklearn.tree.DecisionTreeClassifer 对女性和男性分别建立决策树模型，并绘制得到的决策树。通过仔细对比，尝试解读模型结果并得出结论。"
      ]
    },
    {
      "cell_type": "code",
      "metadata": {
        "id": "M-gfL05R_ktd",
        "colab_type": "code",
        "colab": {}
      },
      "source": [
        "from sklearn import tree\n",
        "import graphviz \n",
        "import pydotplus\n",
        "import os\n",
        "# min_sample_split表示划分节点的最小样本数量\n",
        "# max_depth表示树的最大深度\n",
        "# min_impurity_decrease表示继续划分的不纯度下降阈值\n",
        "# min_impurity_split表示当前节点划分的不纯度阈值\n",
        "# 可以调整参数观察树形状的改变\n",
        "model_female = tree.DecisionTreeClassifier(min_samples_split=50, max_depth=3, \n",
        "                                           min_impurity_split=0.39)\n",
        "female_discard_missing = female.loc[np.all(female.notnull(), axis=1), :]\n",
        "\n",
        "X=female_discard_missing[female.columns[2:]]\n",
        "y=female_discard_missing['dec']\n"
      ],
      "execution_count": 44,
      "outputs": []
    },
    {
      "cell_type": "code",
      "metadata": {
        "id": "BNs4l7IcD4jF",
        "colab_type": "code",
        "colab": {
          "base_uri": "https://localhost:8080/",
          "height": 124
        },
        "outputId": "b38668a7-bb01-4f52-89e3-e803c5cfc66f"
      },
      "source": [
        "model_female.fit(X,y)\n"
      ],
      "execution_count": 45,
      "outputs": [
        {
          "output_type": "execute_result",
          "data": {
            "text/plain": [
              "DecisionTreeClassifier(ccp_alpha=0.0, class_weight=None, criterion='gini',\n",
              "                       max_depth=3, max_features=None, max_leaf_nodes=None,\n",
              "                       min_impurity_decrease=0.0, min_impurity_split=0.39,\n",
              "                       min_samples_leaf=1, min_samples_split=50,\n",
              "                       min_weight_fraction_leaf=0.0, presort='deprecated',\n",
              "                       random_state=None, splitter='best')"
            ]
          },
          "metadata": {
            "tags": []
          },
          "execution_count": 45
        }
      ]
    },
    {
      "cell_type": "code",
      "metadata": {
        "id": "LM-iMfcgAA0x",
        "colab_type": "code",
        "colab": {}
      },
      "source": [
        "dot_tree_female = tree.export_graphviz(model_female, out_file=None, \n",
        "                                       feature_names=female.columns[2:],\n",
        "                                       class_names=['No', 'Yes'],\n",
        "                                       filled=True, rounded=True, \n",
        "                                       special_characters=True)\n",
        "graph_female = pydotplus.graph_from_dot_data(dot_tree_female)"
      ],
      "execution_count": 46,
      "outputs": []
    },
    {
      "cell_type": "code",
      "metadata": {
        "id": "Tz25zrphAl8A",
        "colab_type": "code",
        "colab": {
          "base_uri": "https://localhost:8080/",
          "height": 598
        },
        "outputId": "018cd1eb-aac3-46d1-b43e-cbfecff772a4"
      },
      "source": [
        "import graphviz \n",
        "graphviz.Source(dot_tree_female) #a graphviz export of the above tree"
      ],
      "execution_count": 47,
      "outputs": [
        {
          "output_type": "execute_result",
          "data": {
            "text/plain": [
              "<graphviz.files.Source at 0x7f0c92fc4978>"
            ],
            "image/svg+xml": "<?xml version=\"1.0\" encoding=\"UTF-8\" standalone=\"no\"?>\n<!DOCTYPE svg PUBLIC \"-//W3C//DTD SVG 1.1//EN\"\n \"http://www.w3.org/Graphics/SVG/1.1/DTD/svg11.dtd\">\n<!-- Generated by graphviz version 2.40.1 (20161225.0304)\n -->\n<!-- Title: Tree Pages: 1 -->\n<svg width=\"373pt\" height=\"433pt\"\n viewBox=\"0.00 0.00 373.00 433.00\" xmlns=\"http://www.w3.org/2000/svg\" xmlns:xlink=\"http://www.w3.org/1999/xlink\">\n<g id=\"graph0\" class=\"graph\" transform=\"scale(1 1) rotate(0) translate(4 429)\">\n<title>Tree</title>\n<polygon fill=\"#ffffff\" stroke=\"transparent\" points=\"-4,4 -4,-429 369,-429 369,4 -4,4\"/>\n<!-- 0 -->\n<g id=\"node1\" class=\"node\">\n<title>0</title>\n<path fill=\"#f4ccaf\" stroke=\"#000000\" d=\"M209.5,-425C209.5,-425 84.5,-425 84.5,-425 78.5,-425 72.5,-419 72.5,-413 72.5,-413 72.5,-354 72.5,-354 72.5,-348 78.5,-342 84.5,-342 84.5,-342 209.5,-342 209.5,-342 215.5,-342 221.5,-348 221.5,-354 221.5,-354 221.5,-413 221.5,-413 221.5,-419 215.5,-425 209.5,-425\"/>\n<text text-anchor=\"start\" x=\"115\" y=\"-409.8\" font-family=\"Helvetica,sans-Serif\" font-size=\"14.00\" fill=\"#000000\">attr ≤ 6.75</text>\n<text text-anchor=\"start\" x=\"109\" y=\"-394.8\" font-family=\"Helvetica,sans-Serif\" font-size=\"14.00\" fill=\"#000000\">gini = 0.468</text>\n<text text-anchor=\"start\" x=\"95\" y=\"-379.8\" font-family=\"Helvetica,sans-Serif\" font-size=\"14.00\" fill=\"#000000\">samples = 3457</text>\n<text text-anchor=\"start\" x=\"80.5\" y=\"-364.8\" font-family=\"Helvetica,sans-Serif\" font-size=\"14.00\" fill=\"#000000\">value = [2169, 1288]</text>\n<text text-anchor=\"start\" x=\"112.5\" y=\"-349.8\" font-family=\"Helvetica,sans-Serif\" font-size=\"14.00\" fill=\"#000000\">class = No</text>\n</g>\n<!-- 1 -->\n<g id=\"node2\" class=\"node\">\n<title>1</title>\n<path fill=\"#eca16b\" stroke=\"#000000\" d=\"M128,-298.5C128,-298.5 12,-298.5 12,-298.5 6,-298.5 0,-292.5 0,-286.5 0,-286.5 0,-242.5 0,-242.5 0,-236.5 6,-230.5 12,-230.5 12,-230.5 128,-230.5 128,-230.5 134,-230.5 140,-236.5 140,-242.5 140,-242.5 140,-286.5 140,-286.5 140,-292.5 134,-298.5 128,-298.5\"/>\n<text text-anchor=\"start\" x=\"32\" y=\"-283.3\" font-family=\"Helvetica,sans-Serif\" font-size=\"14.00\" fill=\"#000000\">gini = 0.322</text>\n<text text-anchor=\"start\" x=\"18\" y=\"-268.3\" font-family=\"Helvetica,sans-Serif\" font-size=\"14.00\" fill=\"#000000\">samples = 2007</text>\n<text text-anchor=\"start\" x=\"8\" y=\"-253.3\" font-family=\"Helvetica,sans-Serif\" font-size=\"14.00\" fill=\"#000000\">value = [1602, 405]</text>\n<text text-anchor=\"start\" x=\"35.5\" y=\"-238.3\" font-family=\"Helvetica,sans-Serif\" font-size=\"14.00\" fill=\"#000000\">class = No</text>\n</g>\n<!-- 0&#45;&gt;1 -->\n<g id=\"edge1\" class=\"edge\">\n<title>0&#45;&gt;1</title>\n<path fill=\"none\" stroke=\"#000000\" d=\"M120.0691,-341.8796C112.8117,-330.6636 104.9497,-318.5131 97.6535,-307.2372\"/>\n<polygon fill=\"#000000\" stroke=\"#000000\" points=\"100.5748,-305.3093 92.2038,-298.8149 94.6978,-309.112 100.5748,-305.3093\"/>\n<text text-anchor=\"middle\" x=\"86.9656\" y=\"-319.56\" font-family=\"Helvetica,sans-Serif\" font-size=\"14.00\" fill=\"#000000\">True</text>\n</g>\n<!-- 2 -->\n<g id=\"node3\" class=\"node\">\n<title>2</title>\n<path fill=\"#b8dcf6\" stroke=\"#000000\" d=\"M278,-306C278,-306 170,-306 170,-306 164,-306 158,-300 158,-294 158,-294 158,-235 158,-235 158,-229 164,-223 170,-223 170,-223 278,-223 278,-223 284,-223 290,-229 290,-235 290,-235 290,-294 290,-294 290,-300 284,-306 278,-306\"/>\n<text text-anchor=\"start\" x=\"192\" y=\"-290.8\" font-family=\"Helvetica,sans-Serif\" font-size=\"14.00\" fill=\"#000000\">shar ≤ 6.5</text>\n<text text-anchor=\"start\" x=\"186\" y=\"-275.8\" font-family=\"Helvetica,sans-Serif\" font-size=\"14.00\" fill=\"#000000\">gini = 0.476</text>\n<text text-anchor=\"start\" x=\"172\" y=\"-260.8\" font-family=\"Helvetica,sans-Serif\" font-size=\"14.00\" fill=\"#000000\">samples = 1450</text>\n<text text-anchor=\"start\" x=\"166\" y=\"-245.8\" font-family=\"Helvetica,sans-Serif\" font-size=\"14.00\" fill=\"#000000\">value = [567, 883]</text>\n<text text-anchor=\"start\" x=\"187\" y=\"-230.8\" font-family=\"Helvetica,sans-Serif\" font-size=\"14.00\" fill=\"#000000\">class = Yes</text>\n</g>\n<!-- 0&#45;&gt;2 -->\n<g id=\"edge2\" class=\"edge\">\n<title>0&#45;&gt;2</title>\n<path fill=\"none\" stroke=\"#000000\" d=\"M173.9309,-341.8796C179.5837,-333.1434 185.6033,-323.8404 191.4366,-314.8253\"/>\n<polygon fill=\"#000000\" stroke=\"#000000\" points=\"194.4601,-316.5952 196.9542,-306.2981 188.5831,-312.7924 194.4601,-316.5952\"/>\n<text text-anchor=\"middle\" x=\"202.1924\" y=\"-327.0431\" font-family=\"Helvetica,sans-Serif\" font-size=\"14.00\" fill=\"#000000\">False</text>\n</g>\n<!-- 3 -->\n<g id=\"node4\" class=\"node\">\n<title>3</title>\n<path fill=\"#fbede2\" stroke=\"#000000\" d=\"M203,-187C203,-187 95,-187 95,-187 89,-187 83,-181 83,-175 83,-175 83,-116 83,-116 83,-110 89,-104 95,-104 95,-104 203,-104 203,-104 209,-104 215,-110 215,-116 215,-116 215,-175 215,-175 215,-181 209,-187 203,-187\"/>\n<text text-anchor=\"start\" x=\"121\" y=\"-171.8\" font-family=\"Helvetica,sans-Serif\" font-size=\"14.00\" fill=\"#000000\">fun ≤ 7.5</text>\n<text text-anchor=\"start\" x=\"111\" y=\"-156.8\" font-family=\"Helvetica,sans-Serif\" font-size=\"14.00\" fill=\"#000000\">gini = 0.497</text>\n<text text-anchor=\"start\" x=\"101\" y=\"-141.8\" font-family=\"Helvetica,sans-Serif\" font-size=\"14.00\" fill=\"#000000\">samples = 694</text>\n<text text-anchor=\"start\" x=\"91\" y=\"-126.8\" font-family=\"Helvetica,sans-Serif\" font-size=\"14.00\" fill=\"#000000\">value = [374, 320]</text>\n<text text-anchor=\"start\" x=\"114.5\" y=\"-111.8\" font-family=\"Helvetica,sans-Serif\" font-size=\"14.00\" fill=\"#000000\">class = No</text>\n</g>\n<!-- 2&#45;&gt;3 -->\n<g id=\"edge3\" class=\"edge\">\n<title>2&#45;&gt;3</title>\n<path fill=\"none\" stroke=\"#000000\" d=\"M197.7686,-222.8796C192.2627,-214.1434 186.3994,-204.8404 180.7176,-195.8253\"/>\n<polygon fill=\"#000000\" stroke=\"#000000\" points=\"183.6363,-193.8919 175.3433,-187.2981 177.7143,-197.6242 183.6363,-193.8919\"/>\n</g>\n<!-- 6 -->\n<g id=\"node7\" class=\"node\">\n<title>6</title>\n<path fill=\"#7dbfee\" stroke=\"#000000\" d=\"M353,-179.5C353,-179.5 245,-179.5 245,-179.5 239,-179.5 233,-173.5 233,-167.5 233,-167.5 233,-123.5 233,-123.5 233,-117.5 239,-111.5 245,-111.5 245,-111.5 353,-111.5 353,-111.5 359,-111.5 365,-117.5 365,-123.5 365,-123.5 365,-167.5 365,-167.5 365,-173.5 359,-179.5 353,-179.5\"/>\n<text text-anchor=\"start\" x=\"265.5\" y=\"-164.3\" font-family=\"Helvetica,sans-Serif\" font-size=\"14.00\" fill=\"#000000\">gini = 0.38</text>\n<text text-anchor=\"start\" x=\"251\" y=\"-149.3\" font-family=\"Helvetica,sans-Serif\" font-size=\"14.00\" fill=\"#000000\">samples = 756</text>\n<text text-anchor=\"start\" x=\"241\" y=\"-134.3\" font-family=\"Helvetica,sans-Serif\" font-size=\"14.00\" fill=\"#000000\">value = [193, 563]</text>\n<text text-anchor=\"start\" x=\"262\" y=\"-119.3\" font-family=\"Helvetica,sans-Serif\" font-size=\"14.00\" fill=\"#000000\">class = Yes</text>\n</g>\n<!-- 2&#45;&gt;6 -->\n<g id=\"edge6\" class=\"edge\">\n<title>2&#45;&gt;6</title>\n<path fill=\"none\" stroke=\"#000000\" d=\"M250.2314,-222.8796C257.231,-211.7735 264.808,-199.7513 271.8556,-188.5691\"/>\n<polygon fill=\"#000000\" stroke=\"#000000\" points=\"275.002,-190.1411 277.3729,-179.8149 269.08,-186.4087 275.002,-190.1411\"/>\n</g>\n<!-- 4 -->\n<g id=\"node5\" class=\"node\">\n<title>4</title>\n<path fill=\"#f6d5bd\" stroke=\"#000000\" d=\"M130,-68C130,-68 22,-68 22,-68 16,-68 10,-62 10,-56 10,-56 10,-12 10,-12 10,-6 16,0 22,0 22,0 130,0 130,0 136,0 142,-6 142,-12 142,-12 142,-56 142,-56 142,-62 136,-68 130,-68\"/>\n<text text-anchor=\"start\" x=\"42.5\" y=\"-52.8\" font-family=\"Helvetica,sans-Serif\" font-size=\"14.00\" fill=\"#000000\">gini = 0.48</text>\n<text text-anchor=\"start\" x=\"28\" y=\"-37.8\" font-family=\"Helvetica,sans-Serif\" font-size=\"14.00\" fill=\"#000000\">samples = 490</text>\n<text text-anchor=\"start\" x=\"18\" y=\"-22.8\" font-family=\"Helvetica,sans-Serif\" font-size=\"14.00\" fill=\"#000000\">value = [294, 196]</text>\n<text text-anchor=\"start\" x=\"41.5\" y=\"-7.8\" font-family=\"Helvetica,sans-Serif\" font-size=\"14.00\" fill=\"#000000\">class = No</text>\n</g>\n<!-- 3&#45;&gt;4 -->\n<g id=\"edge4\" class=\"edge\">\n<title>3&#45;&gt;4</title>\n<path fill=\"none\" stroke=\"#000000\" d=\"M121.8175,-103.9815C115.9808,-95.0666 109.8034,-85.6313 103.9386,-76.6734\"/>\n<polygon fill=\"#000000\" stroke=\"#000000\" points=\"106.8386,-74.7129 98.4327,-68.2637 100.9821,-78.5472 106.8386,-74.7129\"/>\n</g>\n<!-- 5 -->\n<g id=\"node6\" class=\"node\">\n<title>5</title>\n<path fill=\"#b9dcf6\" stroke=\"#000000\" d=\"M272,-68C272,-68 172,-68 172,-68 166,-68 160,-62 160,-56 160,-56 160,-12 160,-12 160,-6 166,0 172,0 172,0 272,0 272,0 278,0 284,-6 284,-12 284,-12 284,-56 284,-56 284,-62 278,-68 272,-68\"/>\n<text text-anchor=\"start\" x=\"184\" y=\"-52.8\" font-family=\"Helvetica,sans-Serif\" font-size=\"14.00\" fill=\"#000000\">gini = 0.477</text>\n<text text-anchor=\"start\" x=\"174\" y=\"-37.8\" font-family=\"Helvetica,sans-Serif\" font-size=\"14.00\" fill=\"#000000\">samples = 204</text>\n<text text-anchor=\"start\" x=\"168\" y=\"-22.8\" font-family=\"Helvetica,sans-Serif\" font-size=\"14.00\" fill=\"#000000\">value = [80, 124]</text>\n<text text-anchor=\"start\" x=\"185\" y=\"-7.8\" font-family=\"Helvetica,sans-Serif\" font-size=\"14.00\" fill=\"#000000\">class = Yes</text>\n</g>\n<!-- 3&#45;&gt;5 -->\n<g id=\"edge5\" class=\"edge\">\n<title>3&#45;&gt;5</title>\n<path fill=\"none\" stroke=\"#000000\" d=\"M176.1825,-103.9815C182.0192,-95.0666 188.1966,-85.6313 194.0614,-76.6734\"/>\n<polygon fill=\"#000000\" stroke=\"#000000\" points=\"197.0179,-78.5472 199.5673,-68.2637 191.1614,-74.7129 197.0179,-78.5472\"/>\n</g>\n</g>\n</svg>\n"
          },
          "metadata": {
            "tags": []
          },
          "execution_count": 47
        }
      ]
    },
    {
      "cell_type": "markdown",
      "metadata": {
        "id": "heDXsKEcJj_3",
        "colab_type": "text"
      },
      "source": [
        "吸引力对于女性是首要重要的指标，如果小于6.75则拒绝，否则继续。接下来共同爱好大于6.5就接受，否则继续判断。如果幽默小于7.5就拒绝否则接受。"
      ]
    },
    {
      "cell_type": "markdown",
      "metadata": {
        "id": "mmWryEHBI1G3",
        "colab_type": "text"
      },
      "source": [
        ""
      ]
    },
    {
      "cell_type": "code",
      "metadata": {
        "id": "4qVxVayEAEbQ",
        "colab_type": "code",
        "colab": {}
      },
      "source": [
        "model_male = tree.DecisionTreeClassifier(min_samples_split=50, max_depth=3, \n",
        "                                           min_impurity_split=0.39)\n",
        "male_discard_missing = male.loc[np.all(male.notnull(), axis=1), :]\n",
        "\n",
        "X=male_discard_missing[female.columns[2:]]\n",
        "y=male_discard_missing['dec']\n"
      ],
      "execution_count": 50,
      "outputs": []
    },
    {
      "cell_type": "code",
      "metadata": {
        "id": "nVFPVso4Eq5j",
        "colab_type": "code",
        "colab": {
          "base_uri": "https://localhost:8080/",
          "height": 124
        },
        "outputId": "43acb28b-5f25-4b2b-c5a4-05e9247ad555"
      },
      "source": [
        "model_male.fit(X,y)\n"
      ],
      "execution_count": 52,
      "outputs": [
        {
          "output_type": "execute_result",
          "data": {
            "text/plain": [
              "DecisionTreeClassifier(ccp_alpha=0.0, class_weight=None, criterion='gini',\n",
              "                       max_depth=3, max_features=None, max_leaf_nodes=None,\n",
              "                       min_impurity_decrease=0.0, min_impurity_split=0.39,\n",
              "                       min_samples_leaf=1, min_samples_split=50,\n",
              "                       min_weight_fraction_leaf=0.0, presort='deprecated',\n",
              "                       random_state=None, splitter='best')"
            ]
          },
          "metadata": {
            "tags": []
          },
          "execution_count": 52
        }
      ]
    },
    {
      "cell_type": "code",
      "metadata": {
        "id": "Si6LeTC6B8EB",
        "colab_type": "code",
        "colab": {
          "base_uri": "https://localhost:8080/",
          "height": 598
        },
        "outputId": "f0d7afd5-131c-4cdb-a77d-05a4c8f6add2"
      },
      "source": [
        "dot_tree_male = tree.export_graphviz(model_male, out_file=None, \n",
        "                                       feature_names=male.columns[2:],\n",
        "                                       class_names=['No', 'Yes'],\n",
        "                                       filled=True, rounded=True, \n",
        "                                       special_characters=True)\n",
        "graph_male = pydotplus.graph_from_dot_data(dot_tree_male)\n",
        "import graphviz \n",
        "graphviz.Source(dot_tree_male) #a graphviz export of the above tree"
      ],
      "execution_count": 53,
      "outputs": [
        {
          "output_type": "execute_result",
          "data": {
            "text/plain": [
              "<graphviz.files.Source at 0x7f0c93145e80>"
            ],
            "image/svg+xml": "<?xml version=\"1.0\" encoding=\"UTF-8\" standalone=\"no\"?>\n<!DOCTYPE svg PUBLIC \"-//W3C//DTD SVG 1.1//EN\"\n \"http://www.w3.org/Graphics/SVG/1.1/DTD/svg11.dtd\">\n<!-- Generated by graphviz version 2.40.1 (20161225.0304)\n -->\n<!-- Title: Tree Pages: 1 -->\n<svg width=\"383pt\" height=\"433pt\"\n viewBox=\"0.00 0.00 383.00 433.00\" xmlns=\"http://www.w3.org/2000/svg\" xmlns:xlink=\"http://www.w3.org/1999/xlink\">\n<g id=\"graph0\" class=\"graph\" transform=\"scale(1 1) rotate(0) translate(4 429)\">\n<title>Tree</title>\n<polygon fill=\"#ffffff\" stroke=\"transparent\" points=\"-4,4 -4,-429 379,-429 379,4 -4,4\"/>\n<!-- 0 -->\n<g id=\"node1\" class=\"node\">\n<title>0</title>\n<path fill=\"#fef9f6\" stroke=\"#000000\" d=\"M211.5,-425C211.5,-425 86.5,-425 86.5,-425 80.5,-425 74.5,-419 74.5,-413 74.5,-413 74.5,-354 74.5,-354 74.5,-348 80.5,-342 86.5,-342 86.5,-342 211.5,-342 211.5,-342 217.5,-342 223.5,-348 223.5,-354 223.5,-354 223.5,-413 223.5,-413 223.5,-419 217.5,-425 211.5,-425\"/>\n<text text-anchor=\"start\" x=\"117\" y=\"-409.8\" font-family=\"Helvetica,sans-Serif\" font-size=\"14.00\" fill=\"#000000\">attr ≤ 6.25</text>\n<text text-anchor=\"start\" x=\"119.5\" y=\"-394.8\" font-family=\"Helvetica,sans-Serif\" font-size=\"14.00\" fill=\"#000000\">gini = 0.5</text>\n<text text-anchor=\"start\" x=\"97\" y=\"-379.8\" font-family=\"Helvetica,sans-Serif\" font-size=\"14.00\" fill=\"#000000\">samples = 3583</text>\n<text text-anchor=\"start\" x=\"82.5\" y=\"-364.8\" font-family=\"Helvetica,sans-Serif\" font-size=\"14.00\" fill=\"#000000\">value = [1835, 1748]</text>\n<text text-anchor=\"start\" x=\"114.5\" y=\"-349.8\" font-family=\"Helvetica,sans-Serif\" font-size=\"14.00\" fill=\"#000000\">class = No</text>\n</g>\n<!-- 1 -->\n<g id=\"node2\" class=\"node\">\n<title>1</title>\n<path fill=\"#eeac7c\" stroke=\"#000000\" d=\"M128,-298.5C128,-298.5 12,-298.5 12,-298.5 6,-298.5 0,-292.5 0,-286.5 0,-286.5 0,-242.5 0,-242.5 0,-236.5 6,-230.5 12,-230.5 12,-230.5 128,-230.5 128,-230.5 134,-230.5 140,-236.5 140,-242.5 140,-242.5 140,-286.5 140,-286.5 140,-292.5 134,-298.5 128,-298.5\"/>\n<text text-anchor=\"start\" x=\"32\" y=\"-283.3\" font-family=\"Helvetica,sans-Serif\" font-size=\"14.00\" fill=\"#000000\">gini = 0.377</text>\n<text text-anchor=\"start\" x=\"18\" y=\"-268.3\" font-family=\"Helvetica,sans-Serif\" font-size=\"14.00\" fill=\"#000000\">samples = 1798</text>\n<text text-anchor=\"start\" x=\"8\" y=\"-253.3\" font-family=\"Helvetica,sans-Serif\" font-size=\"14.00\" fill=\"#000000\">value = [1344, 454]</text>\n<text text-anchor=\"start\" x=\"35.5\" y=\"-238.3\" font-family=\"Helvetica,sans-Serif\" font-size=\"14.00\" fill=\"#000000\">class = No</text>\n</g>\n<!-- 0&#45;&gt;1 -->\n<g id=\"edge1\" class=\"edge\">\n<title>0&#45;&gt;1</title>\n<path fill=\"none\" stroke=\"#000000\" d=\"M121.3696,-341.8796C113.9237,-330.6636 105.8575,-318.5131 98.3718,-307.2372\"/>\n<polygon fill=\"#000000\" stroke=\"#000000\" points=\"101.2273,-305.2104 92.7805,-298.8149 95.3954,-309.082 101.2273,-305.2104\"/>\n<text text-anchor=\"middle\" x=\"87.83\" y=\"-319.6199\" font-family=\"Helvetica,sans-Serif\" font-size=\"14.00\" fill=\"#000000\">True</text>\n</g>\n<!-- 2 -->\n<g id=\"node3\" class=\"node\">\n<title>2</title>\n<path fill=\"#84c2ef\" stroke=\"#000000\" d=\"M286,-306C286,-306 170,-306 170,-306 164,-306 158,-300 158,-294 158,-294 158,-235 158,-235 158,-229 164,-223 170,-223 170,-223 286,-223 286,-223 292,-223 298,-229 298,-235 298,-235 298,-294 298,-294 298,-300 292,-306 286,-306\"/>\n<text text-anchor=\"start\" x=\"196\" y=\"-290.8\" font-family=\"Helvetica,sans-Serif\" font-size=\"14.00\" fill=\"#000000\">shar ≤ 4.5</text>\n<text text-anchor=\"start\" x=\"190\" y=\"-275.8\" font-family=\"Helvetica,sans-Serif\" font-size=\"14.00\" fill=\"#000000\">gini = 0.399</text>\n<text text-anchor=\"start\" x=\"176\" y=\"-260.8\" font-family=\"Helvetica,sans-Serif\" font-size=\"14.00\" fill=\"#000000\">samples = 1785</text>\n<text text-anchor=\"start\" x=\"166\" y=\"-245.8\" font-family=\"Helvetica,sans-Serif\" font-size=\"14.00\" fill=\"#000000\">value = [491, 1294]</text>\n<text text-anchor=\"start\" x=\"191\" y=\"-230.8\" font-family=\"Helvetica,sans-Serif\" font-size=\"14.00\" fill=\"#000000\">class = Yes</text>\n</g>\n<!-- 0&#45;&gt;2 -->\n<g id=\"edge2\" class=\"edge\">\n<title>0&#45;&gt;2</title>\n<path fill=\"none\" stroke=\"#000000\" d=\"M176.6304,-341.8796C182.43,-333.1434 188.6059,-323.8404 194.5908,-314.8253\"/>\n<polygon fill=\"#000000\" stroke=\"#000000\" points=\"197.6368,-316.5652 200.2517,-306.2981 191.8049,-312.6935 197.6368,-316.5652\"/>\n<text text-anchor=\"middle\" x=\"205.2022\" y=\"-327.103\" font-family=\"Helvetica,sans-Serif\" font-size=\"14.00\" fill=\"#000000\">False</text>\n</g>\n<!-- 3 -->\n<g id=\"node4\" class=\"node\">\n<title>3</title>\n<path fill=\"#f9e2d2\" stroke=\"#000000\" d=\"M205,-187C205,-187 97,-187 97,-187 91,-187 85,-181 85,-175 85,-175 85,-116 85,-116 85,-110 91,-104 97,-104 97,-104 205,-104 205,-104 211,-104 217,-110 217,-116 217,-116 217,-175 217,-175 217,-181 211,-187 205,-187\"/>\n<text text-anchor=\"start\" x=\"119\" y=\"-171.8\" font-family=\"Helvetica,sans-Serif\" font-size=\"14.00\" fill=\"#000000\">fun ≤ 6.75</text>\n<text text-anchor=\"start\" x=\"113\" y=\"-156.8\" font-family=\"Helvetica,sans-Serif\" font-size=\"14.00\" fill=\"#000000\">gini = 0.492</text>\n<text text-anchor=\"start\" x=\"103\" y=\"-141.8\" font-family=\"Helvetica,sans-Serif\" font-size=\"14.00\" fill=\"#000000\">samples = 287</text>\n<text text-anchor=\"start\" x=\"93\" y=\"-126.8\" font-family=\"Helvetica,sans-Serif\" font-size=\"14.00\" fill=\"#000000\">value = [162, 125]</text>\n<text text-anchor=\"start\" x=\"116.5\" y=\"-111.8\" font-family=\"Helvetica,sans-Serif\" font-size=\"14.00\" fill=\"#000000\">class = No</text>\n</g>\n<!-- 2&#45;&gt;3 -->\n<g id=\"edge3\" class=\"edge\">\n<title>2&#45;&gt;3</title>\n<path fill=\"none\" stroke=\"#000000\" d=\"M201.0691,-222.8796C195.4163,-214.1434 189.3967,-204.8404 183.5634,-195.8253\"/>\n<polygon fill=\"#000000\" stroke=\"#000000\" points=\"186.4169,-193.7924 178.0458,-187.2981 180.5399,-197.5952 186.4169,-193.7924\"/>\n</g>\n<!-- 6 -->\n<g id=\"node7\" class=\"node\">\n<title>6</title>\n<path fill=\"#71b9ec\" stroke=\"#000000\" d=\"M363,-179.5C363,-179.5 247,-179.5 247,-179.5 241,-179.5 235,-173.5 235,-167.5 235,-167.5 235,-123.5 235,-123.5 235,-117.5 241,-111.5 247,-111.5 247,-111.5 363,-111.5 363,-111.5 369,-111.5 375,-117.5 375,-123.5 375,-123.5 375,-167.5 375,-167.5 375,-173.5 369,-179.5 363,-179.5\"/>\n<text text-anchor=\"start\" x=\"267\" y=\"-164.3\" font-family=\"Helvetica,sans-Serif\" font-size=\"14.00\" fill=\"#000000\">gini = 0.343</text>\n<text text-anchor=\"start\" x=\"253\" y=\"-149.3\" font-family=\"Helvetica,sans-Serif\" font-size=\"14.00\" fill=\"#000000\">samples = 1498</text>\n<text text-anchor=\"start\" x=\"243\" y=\"-134.3\" font-family=\"Helvetica,sans-Serif\" font-size=\"14.00\" fill=\"#000000\">value = [329, 1169]</text>\n<text text-anchor=\"start\" x=\"268\" y=\"-119.3\" font-family=\"Helvetica,sans-Serif\" font-size=\"14.00\" fill=\"#000000\">class = Yes</text>\n</g>\n<!-- 2&#45;&gt;6 -->\n<g id=\"edge6\" class=\"edge\">\n<title>2&#45;&gt;6</title>\n<path fill=\"none\" stroke=\"#000000\" d=\"M254.9309,-222.8796C262.1883,-211.6636 270.0503,-199.5131 277.3465,-188.2372\"/>\n<polygon fill=\"#000000\" stroke=\"#000000\" points=\"280.3022,-190.112 282.7962,-179.8149 274.4252,-186.3093 280.3022,-190.112\"/>\n</g>\n<!-- 4 -->\n<g id=\"node5\" class=\"node\">\n<title>4</title>\n<path fill=\"#f1b991\" stroke=\"#000000\" d=\"M132,-68C132,-68 32,-68 32,-68 26,-68 20,-62 20,-56 20,-56 20,-12 20,-12 20,-6 26,0 32,0 32,0 132,0 132,0 138,0 144,-6 144,-12 144,-12 144,-56 144,-56 144,-62 138,-68 132,-68\"/>\n<text text-anchor=\"start\" x=\"44\" y=\"-52.8\" font-family=\"Helvetica,sans-Serif\" font-size=\"14.00\" fill=\"#000000\">gini = 0.426</text>\n<text text-anchor=\"start\" x=\"34\" y=\"-37.8\" font-family=\"Helvetica,sans-Serif\" font-size=\"14.00\" fill=\"#000000\">samples = 169</text>\n<text text-anchor=\"start\" x=\"28\" y=\"-22.8\" font-family=\"Helvetica,sans-Serif\" font-size=\"14.00\" fill=\"#000000\">value = [117, 52]</text>\n<text text-anchor=\"start\" x=\"47.5\" y=\"-7.8\" font-family=\"Helvetica,sans-Serif\" font-size=\"14.00\" fill=\"#000000\">class = No</text>\n</g>\n<!-- 3&#45;&gt;4 -->\n<g id=\"edge4\" class=\"edge\">\n<title>3&#45;&gt;4</title>\n<path fill=\"none\" stroke=\"#000000\" d=\"M125.3069,-103.9815C119.8469,-95.1585 114.0716,-85.8258 108.5793,-76.9506\"/>\n<polygon fill=\"#000000\" stroke=\"#000000\" points=\"111.442,-74.9254 103.2035,-68.2637 105.4896,-78.609 111.442,-74.9254\"/>\n</g>\n<!-- 5 -->\n<g id=\"node6\" class=\"node\">\n<title>5</title>\n<path fill=\"#b3d9f5\" stroke=\"#000000\" d=\"M266,-68C266,-68 174,-68 174,-68 168,-68 162,-62 162,-56 162,-56 162,-12 162,-12 162,-6 168,0 174,0 174,0 266,0 266,0 272,0 278,-6 278,-12 278,-12 278,-56 278,-56 278,-62 272,-68 266,-68\"/>\n<text text-anchor=\"start\" x=\"182\" y=\"-52.8\" font-family=\"Helvetica,sans-Serif\" font-size=\"14.00\" fill=\"#000000\">gini = 0.472</text>\n<text text-anchor=\"start\" x=\"172\" y=\"-37.8\" font-family=\"Helvetica,sans-Serif\" font-size=\"14.00\" fill=\"#000000\">samples = 118</text>\n<text text-anchor=\"start\" x=\"170\" y=\"-22.8\" font-family=\"Helvetica,sans-Serif\" font-size=\"14.00\" fill=\"#000000\">value = [45, 73]</text>\n<text text-anchor=\"start\" x=\"183\" y=\"-7.8\" font-family=\"Helvetica,sans-Serif\" font-size=\"14.00\" fill=\"#000000\">class = Yes</text>\n</g>\n<!-- 3&#45;&gt;5 -->\n<g id=\"edge5\" class=\"edge\">\n<title>3&#45;&gt;5</title>\n<path fill=\"none\" stroke=\"#000000\" d=\"M176.6931,-103.9815C182.1531,-95.1585 187.9284,-85.8258 193.4207,-76.9506\"/>\n<polygon fill=\"#000000\" stroke=\"#000000\" points=\"196.5104,-78.609 198.7965,-68.2637 190.558,-74.9254 196.5104,-78.609\"/>\n</g>\n</g>\n</svg>\n"
          },
          "metadata": {
            "tags": []
          },
          "execution_count": 53
        }
      ]
    },
    {
      "cell_type": "markdown",
      "metadata": {
        "id": "Z_TkMhijHraB",
        "colab_type": "text"
      },
      "source": [
        "吸引力对于男性是首要重要的指标，如果小于6.25则拒绝，否则继续。接下来共同爱好大于4.5就接受，否则继续判断。如果幽默大于6.75就接受否则拒绝。"
      ]
    }
  ]
}