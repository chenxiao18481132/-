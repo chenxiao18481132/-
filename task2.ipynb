{
  "nbformat": 4,
  "nbformat_minor": 0,
  "metadata": {
    "colab": {
      "name": "task2.ipynb",
      "provenance": [],
      "collapsed_sections": []
    },
    "kernelspec": {
      "name": "python3",
      "display_name": "Python 3"
    }
  },
  "cells": [
    {
      "cell_type": "code",
      "metadata": {
        "id": "fnt0yYkWt3xt",
        "colab_type": "code",
        "colab": {
          "base_uri": "https://localhost:8080/",
          "height": 72
        },
        "outputId": "1878977a-254b-4888-db99-177861b0d5f3"
      },
      "source": [
        "import random\n",
        "import numpy as np\n",
        "import matplotlib.pyplot as plt\n",
        "import statsmodels.api as sm  \n",
        "\n",
        "%matplotlib inline"
      ],
      "execution_count": null,
      "outputs": [
        {
          "output_type": "stream",
          "text": [
            "/usr/local/lib/python3.6/dist-packages/statsmodels/tools/_testing.py:19: FutureWarning: pandas.util.testing is deprecated. Use the functions in the public API at pandas.testing instead.\n",
            "  import pandas.util.testing as tm\n"
          ],
          "name": "stderr"
        }
      ]
    },
    {
      "cell_type": "code",
      "metadata": {
        "id": "ZrL_Tta3t_UF",
        "colab_type": "code",
        "colab": {}
      },
      "source": [
        "# 在[0, 1]间生成101个点，endpoint=True 表示右端点1也包含在内\n",
        "# 等价于0到1间，从0按0.01的间隔生成100个点\n",
        "x = np.linspace(0, 1, 101, endpoint=True)  \n",
        "def f(z):\n",
        "  return np.sin(2*np.pi*z) \n",
        "\n",
        "\n",
        "y = f(x)  # 生成纵坐标y"
      ],
      "execution_count": null,
      "outputs": []
    },
    {
      "cell_type": "code",
      "metadata": {
        "id": "R-O9s9WMulDG",
        "colab_type": "code",
        "colab": {
          "base_uri": "https://localhost:8080/",
          "height": 282
        },
        "outputId": "8935db23-3a9f-4b95-ac52-ea148e80dc78"
      },
      "source": [
        "np.random.seed(247)  # 设置随机种子\n",
        "x_train = np.linspace(0, 1, 11, endpoint=True)\n",
        "# 因为观测通常有噪声，为每个样本点加入独立的，服从(0, 0.6)正态分布的噪声\n",
        "y_train = f(x_train) + np.random.normal(0, 0.6, 11)  \n",
        "\n",
        "# 绘制正弦曲线及带噪声数据的散点图\n",
        "fig = plt.figure(1)\n",
        "plt.plot(x, y, 'g-')  # 绘制正弦图像\n",
        "plt.scatter(x_train, y_train,s=10)  # 绘制观测样本点\n",
        "plt.xlabel('x')\n",
        "plt.ylabel('y')\n",
        "plt.show()\n"
      ],
      "execution_count": null,
      "outputs": [
        {
          "output_type": "display_data",
          "data": {
            "image/png": "[encoded data removed]",
            "text/plain": [
              "<Figure size 432x288 with 1 Axes>"
            ]
          },
          "metadata": {
            "tags": [],
            "needs_background": "light"
          }
        }
      ]
    },
    {
      "cell_type": "code",
      "metadata": {
        "id": "dn71JgyDvkga",
        "colab_type": "code",
        "colab": {}
      },
      "source": [
        "# 因为用一阶多项式拟合，所以不需要额外扩增数据\n",
        "# sm.OLS方法表示用最小二乘法进行回归\n",
        "# 但其不内置常数项，因此通过sm.add_constant方法为其增加常数项\n",
        "# 增加常数列(1)之后，X_train1 的维度为(11, 2)\n",
        "X_train1 = sm.add_constant(x_train)  \n",
        "model1 = sm.OLS(y_train, X_train1)\n",
        "result1 = model1.fit()  # 拟合数据"
      ],
      "execution_count": null,
      "outputs": []
    },
    {
      "cell_type": "code",
      "metadata": {
        "id": "jnuT3dvZvv9A",
        "colab_type": "code",
        "colab": {
          "base_uri": "https://localhost:8080/",
          "height": 282
        },
        "outputId": "5cc5d58a-40c5-43dd-b5c4-24f6da124a89"
      },
      "source": [
        "fig = plt.figure(2)\n",
        "plt.plot(x, y, 'g-')\n",
        "# 根据计算得到的参数(result1.params)来得到预测的 y\n",
        "# 同样这里也需要为x增加常数列(1)\n",
        "# y = β1 * 1 + β2 * x\n",
        "plt.plot(x, sm.add_constant(x).dot(result1.params), 'r-')\n",
        "plt.plot(x_train, y_train, 'b.')\n",
        "plt.xlabel('x')\n",
        "plt.ylabel('y')\n",
        "plt.show()"
      ],
      "execution_count": null,
      "outputs": [
        {
          "output_type": "display_data",
          "data": {
            "image/png": "[encoded data removed]",
            "text/plain": [
              "<Figure size 432x288 with 1 Axes>"
            ]
          },
          "metadata": {
            "tags": [],
            "needs_background": "light"
          }
        }
      ]
    },
    {
      "cell_type": "markdown",
      "metadata": {
        "id": "7O9fBLtM0N8H",
        "colab_type": "text"
      },
      "source": [
        "利用二阶多项式函数拟合数据"
      ]
    },
    {
      "cell_type": "code",
      "metadata": {
        "id": "Tit8BPND0UQS",
        "colab_type": "code",
        "colab": {
          "base_uri": "https://localhost:8080/",
          "height": 500
        },
        "outputId": "5ab35d6f-25d8-402b-b16d-bd02ae2b265f"
      },
      "source": [
        "from sklearn.preprocessing import PolynomialFeatures\n",
        "polynomial_features= PolynomialFeatures(degree=2)\n",
        "xp_2 = polynomial_features.fit_transform(x_train.reshape(-1,1))\n",
        "print(xp_2.shape)\n",
        "model = sm.OLS(y_train, xp_2).fit()\n",
        "ypred = model.predict(xp_2) \n",
        "\n",
        "ypred.shape\n",
        "model.summary()"
      ],
      "execution_count": 50,
      "outputs": [
        {
          "output_type": "stream",
          "text": [
            "(11, 3)\n"
          ],
          "name": "stdout"
        },
        {
          "output_type": "stream",
          "text": [
            "/usr/local/lib/python3.6/dist-packages/scipy/stats/stats.py:1535: UserWarning: kurtosistest only valid for n>=20 ... continuing anyway, n=11\n",
            "  \"anyway, n=%i\" % int(n))\n"
          ],
          "name": "stderr"
        },
        {
          "output_type": "execute_result",
          "data": {
            "text/html": [
              "<table class=\"simpletable\">\n",
              "<caption>OLS Regression Results</caption>\n",
              "<tr>\n",
              "  <th>Dep. Variable:</th>            <td>y</td>        <th>  R-squared:         </th> <td>   0.426</td>\n",
              "</tr>\n",
              "<tr>\n",
              "  <th>Model:</th>                   <td>OLS</td>       <th>  Adj. R-squared:    </th> <td>   0.283</td>\n",
              "</tr>\n",
              "<tr>\n",
              "  <th>Method:</th>             <td>Least Squares</td>  <th>  F-statistic:       </th> <td>   2.974</td>\n",
              "</tr>\n",
              "<tr>\n",
              "  <th>Date:</th>             <td>Fri, 17 Jul 2020</td> <th>  Prob (F-statistic):</th>  <td> 0.108</td> \n",
              "</tr>\n",
              "<tr>\n",
              "  <th>Time:</th>                 <td>03:55:52</td>     <th>  Log-Likelihood:    </th> <td> -11.562</td>\n",
              "</tr>\n",
              "<tr>\n",
              "  <th>No. Observations:</th>      <td>    11</td>      <th>  AIC:               </th> <td>   29.12</td>\n",
              "</tr>\n",
              "<tr>\n",
              "  <th>Df Residuals:</th>          <td>     8</td>      <th>  BIC:               </th> <td>   30.32</td>\n",
              "</tr>\n",
              "<tr>\n",
              "  <th>Df Model:</th>              <td>     2</td>      <th>                     </th>     <td> </td>   \n",
              "</tr>\n",
              "<tr>\n",
              "  <th>Covariance Type:</th>      <td>nonrobust</td>    <th>                     </th>     <td> </td>   \n",
              "</tr>\n",
              "</table>\n",
              "<table class=\"simpletable\">\n",
              "<tr>\n",
              "    <td></td>       <th>coef</th>     <th>std err</th>      <th>t</th>      <th>P>|t|</th>  <th>[0.025</th>    <th>0.975]</th>  \n",
              "</tr>\n",
              "<tr>\n",
              "  <th>const</th> <td>    0.6955</td> <td>    0.618</td> <td>    1.125</td> <td> 0.293</td> <td>   -0.731</td> <td>    2.122</td>\n",
              "</tr>\n",
              "<tr>\n",
              "  <th>x1</th>    <td>   -0.2291</td> <td>    2.877</td> <td>   -0.080</td> <td> 0.938</td> <td>   -6.864</td> <td>    6.406</td>\n",
              "</tr>\n",
              "<tr>\n",
              "  <th>x2</th>    <td>   -1.6045</td> <td>    2.771</td> <td>   -0.579</td> <td> 0.579</td> <td>   -7.995</td> <td>    4.786</td>\n",
              "</tr>\n",
              "</table>\n",
              "<table class=\"simpletable\">\n",
              "<tr>\n",
              "  <th>Omnibus:</th>       <td> 0.392</td> <th>  Durbin-Watson:     </th> <td>   2.003</td>\n",
              "</tr>\n",
              "<tr>\n",
              "  <th>Prob(Omnibus):</th> <td> 0.822</td> <th>  Jarque-Bera (JB):  </th> <td>   0.361</td>\n",
              "</tr>\n",
              "<tr>\n",
              "  <th>Skew:</th>          <td> 0.338</td> <th>  Prob(JB):          </th> <td>   0.835</td>\n",
              "</tr>\n",
              "<tr>\n",
              "  <th>Kurtosis:</th>      <td> 2.424</td> <th>  Cond. No.          </th> <td>    19.5</td>\n",
              "</tr>\n",
              "</table><br/><br/>Warnings:<br/>[1] Standard Errors assume that the covariance matrix of the errors is correctly specified."
            ],
            "text/plain": [
              "<class 'statsmodels.iolib.summary.Summary'>\n",
              "\"\"\"\n",
              "                            OLS Regression Results                            \n",
              "==============================================================================\n",
              "Dep. Variable:                      y   R-squared:                       0.426\n",
              "Model:                            OLS   Adj. R-squared:                  0.283\n",
              "Method:                 Least Squares   F-statistic:                     2.974\n",
              "Date:                Fri, 17 Jul 2020   Prob (F-statistic):              0.108\n",
              "Time:                        03:55:52   Log-Likelihood:                -11.562\n",
              "No. Observations:                  11   AIC:                             29.12\n",
              "Df Residuals:                       8   BIC:                             30.32\n",
              "Df Model:                           2                                         \n",
              "Covariance Type:            nonrobust                                         \n",
              "==============================================================================\n",
              "                 coef    std err          t      P>|t|      [0.025      0.975]\n",
              "------------------------------------------------------------------------------\n",
              "const          0.6955      0.618      1.125      0.293      -0.731       2.122\n",
              "x1            -0.2291      2.877     -0.080      0.938      -6.864       6.406\n",
              "x2            -1.6045      2.771     -0.579      0.579      -7.995       4.786\n",
              "==============================================================================\n",
              "Omnibus:                        0.392   Durbin-Watson:                   2.003\n",
              "Prob(Omnibus):                  0.822   Jarque-Bera (JB):                0.361\n",
              "Skew:                           0.338   Prob(JB):                        0.835\n",
              "Kurtosis:                       2.424   Cond. No.                         19.5\n",
              "==============================================================================\n",
              "\n",
              "Warnings:\n",
              "[1] Standard Errors assume that the covariance matrix of the errors is correctly specified.\n",
              "\"\"\""
            ]
          },
          "metadata": {
            "tags": []
          },
          "execution_count": 50
        }
      ]
    },
    {
      "cell_type": "code",
      "metadata": {
        "colab_type": "code",
        "id": "dhCi7TgW0qET",
        "colab": {
          "base_uri": "https://localhost:8080/",
          "height": 279
        },
        "outputId": "4fa3f58a-b4f0-4e07-ffcd-ff1d554b21b6"
      },
      "source": [
        "from statsmodels.sandbox.regression.predstd import wls_prediction_std\n",
        "_, upper,lower = wls_prediction_std(model)# confidence intervals\n",
        "fig = plt.figure(3)\n",
        "plt.plot(x, y, 'g-',label=\"true\")\n",
        "plt.scatter(x_train,y_train,s=10)\n",
        "plt.plot(x_train,ypred,'r-',label=\n",
        "         'pred')\n",
        "plt.plot(x_train,upper,'--',label=\"Upper\") # confidence intervals\n",
        "plt.plot(x_train,lower,':',label=\"lower\")\n",
        "plt.xlabel('x')\n",
        "plt.ylabel('y')\n",
        "plt.legend(\n",
        "           loc='lower left',\n",
        "          \n",
        "           fontsize=8)\n",
        "plt.show()"
      ],
      "execution_count": 51,
      "outputs": [
        {
          "output_type": "display_data",
          "data": {
            "image/png": "[encoded data removed]",
            "text/plain": [
              "<Figure size 432x288 with 1 Axes>"
            ]
          },
          "metadata": {
            "tags": [],
            "needs_background": "light"
          }
        }
      ]
    },
    {
      "cell_type": "markdown",
      "metadata": {
        "id": "IjiJKKznzPCd",
        "colab_type": "text"
      },
      "source": [
        "利用三阶多项式函数拟合数据"
      ]
    },
    {
      "cell_type": "markdown",
      "metadata": {
        "id": "95Xbb70szcyL",
        "colab_type": "text"
      },
      "source": [
        "Generate 3rd degree polynomials "
      ]
    },
    {
      "cell_type": "code",
      "metadata": {
        "id": "fLoOjTmkw2zC",
        "colab_type": "code",
        "colab": {
          "base_uri": "https://localhost:8080/",
          "height": 35
        },
        "outputId": "c96ce8f0-3f1f-4a61-c594-63803f670943"
      },
      "source": [
        "from sklearn.preprocessing import PolynomialFeatures\n",
        "polynomial_features= PolynomialFeatures(degree=3)\n",
        "xp_3 = polynomial_features.fit_transform(x_train.reshape(-1,1))\n",
        "print(xp_3.shape)"
      ],
      "execution_count": 52,
      "outputs": [
        {
          "output_type": "stream",
          "text": [
            "(11, 4)\n"
          ],
          "name": "stdout"
        }
      ]
    },
    {
      "cell_type": "code",
      "metadata": {
        "id": "VEkr5mrDxr-e",
        "colab_type": "code",
        "colab": {
          "base_uri": "https://localhost:8080/",
          "height": 502
        },
        "outputId": "2d8f9eab-1d7d-41d2-84eb-01290a4c7be4"
      },
      "source": [
        "model = sm.OLS(y_train, xp_3).fit()\n",
        "ypred = model.predict(xp_3) \n",
        "\n",
        "ypred.shape\n",
        "model.summary()"
      ],
      "execution_count": 53,
      "outputs": [
        {
          "output_type": "stream",
          "text": [
            "/usr/local/lib/python3.6/dist-packages/scipy/stats/stats.py:1535: UserWarning: kurtosistest only valid for n>=20 ... continuing anyway, n=11\n",
            "  \"anyway, n=%i\" % int(n))\n"
          ],
          "name": "stderr"
        },
        {
          "output_type": "execute_result",
          "data": {
            "text/html": [
              "<table class=\"simpletable\">\n",
              "<caption>OLS Regression Results</caption>\n",
              "<tr>\n",
              "  <th>Dep. Variable:</th>            <td>y</td>        <th>  R-squared:         </th> <td>   0.646</td>\n",
              "</tr>\n",
              "<tr>\n",
              "  <th>Model:</th>                   <td>OLS</td>       <th>  Adj. R-squared:    </th> <td>   0.494</td>\n",
              "</tr>\n",
              "<tr>\n",
              "  <th>Method:</th>             <td>Least Squares</td>  <th>  F-statistic:       </th> <td>   4.251</td>\n",
              "</tr>\n",
              "<tr>\n",
              "  <th>Date:</th>             <td>Fri, 17 Jul 2020</td> <th>  Prob (F-statistic):</th>  <td>0.0524</td> \n",
              "</tr>\n",
              "<tr>\n",
              "  <th>Time:</th>                 <td>03:56:07</td>     <th>  Log-Likelihood:    </th> <td> -8.9143</td>\n",
              "</tr>\n",
              "<tr>\n",
              "  <th>No. Observations:</th>      <td>    11</td>      <th>  AIC:               </th> <td>   25.83</td>\n",
              "</tr>\n",
              "<tr>\n",
              "  <th>Df Residuals:</th>          <td>     7</td>      <th>  BIC:               </th> <td>   27.42</td>\n",
              "</tr>\n",
              "<tr>\n",
              "  <th>Df Model:</th>              <td>     3</td>      <th>                     </th>     <td> </td>   \n",
              "</tr>\n",
              "<tr>\n",
              "  <th>Covariance Type:</th>      <td>nonrobust</td>    <th>                     </th>     <td> </td>   \n",
              "</tr>\n",
              "</table>\n",
              "<table class=\"simpletable\">\n",
              "<tr>\n",
              "    <td></td>       <th>coef</th>     <th>std err</th>      <th>t</th>      <th>P>|t|</th>  <th>[0.025</th>    <th>0.975]</th>  \n",
              "</tr>\n",
              "<tr>\n",
              "  <th>const</th> <td>    0.0454</td> <td>    0.606</td> <td>    0.075</td> <td> 0.942</td> <td>   -1.388</td> <td>    1.479</td>\n",
              "</tr>\n",
              "<tr>\n",
              "  <th>x1</th>    <td>   10.0997</td> <td>    5.522</td> <td>    1.829</td> <td> 0.110</td> <td>   -2.957</td> <td>   23.156</td>\n",
              "</tr>\n",
              "<tr>\n",
              "  <th>x2</th>    <td>  -28.6906</td> <td>   13.225</td> <td>   -2.169</td> <td> 0.067</td> <td>  -59.962</td> <td>    2.580</td>\n",
              "</tr>\n",
              "<tr>\n",
              "  <th>x3</th>    <td>   18.0573</td> <td>    8.679</td> <td>    2.081</td> <td> 0.076</td> <td>   -2.464</td> <td>   38.579</td>\n",
              "</tr>\n",
              "</table>\n",
              "<table class=\"simpletable\">\n",
              "<tr>\n",
              "  <th>Omnibus:</th>       <td> 0.630</td> <th>  Durbin-Watson:     </th> <td>   2.895</td>\n",
              "</tr>\n",
              "<tr>\n",
              "  <th>Prob(Omnibus):</th> <td> 0.730</td> <th>  Jarque-Bera (JB):  </th> <td>   0.574</td>\n",
              "</tr>\n",
              "<tr>\n",
              "  <th>Skew:</th>          <td>-0.187</td> <th>  Prob(JB):          </th> <td>   0.750</td>\n",
              "</tr>\n",
              "<tr>\n",
              "  <th>Kurtosis:</th>      <td> 1.945</td> <th>  Cond. No.          </th> <td>    101.</td>\n",
              "</tr>\n",
              "</table><br/><br/>Warnings:<br/>[1] Standard Errors assume that the covariance matrix of the errors is correctly specified."
            ],
            "text/plain": [
              "<class 'statsmodels.iolib.summary.Summary'>\n",
              "\"\"\"\n",
              "                            OLS Regression Results                            \n",
              "==============================================================================\n",
              "Dep. Variable:                      y   R-squared:                       0.646\n",
              "Model:                            OLS   Adj. R-squared:                  0.494\n",
              "Method:                 Least Squares   F-statistic:                     4.251\n",
              "Date:                Fri, 17 Jul 2020   Prob (F-statistic):             0.0524\n",
              "Time:                        03:56:07   Log-Likelihood:                -8.9143\n",
              "No. Observations:                  11   AIC:                             25.83\n",
              "Df Residuals:                       7   BIC:                             27.42\n",
              "Df Model:                           3                                         \n",
              "Covariance Type:            nonrobust                                         \n",
              "==============================================================================\n",
              "                 coef    std err          t      P>|t|      [0.025      0.975]\n",
              "------------------------------------------------------------------------------\n",
              "const          0.0454      0.606      0.075      0.942      -1.388       1.479\n",
              "x1            10.0997      5.522      1.829      0.110      -2.957      23.156\n",
              "x2           -28.6906     13.225     -2.169      0.067     -59.962       2.580\n",
              "x3            18.0573      8.679      2.081      0.076      -2.464      38.579\n",
              "==============================================================================\n",
              "Omnibus:                        0.630   Durbin-Watson:                   2.895\n",
              "Prob(Omnibus):                  0.730   Jarque-Bera (JB):                0.574\n",
              "Skew:                          -0.187   Prob(JB):                        0.750\n",
              "Kurtosis:                       1.945   Cond. No.                         101.\n",
              "==============================================================================\n",
              "\n",
              "Warnings:\n",
              "[1] Standard Errors assume that the covariance matrix of the errors is correctly specified.\n",
              "\"\"\""
            ]
          },
          "metadata": {
            "tags": []
          },
          "execution_count": 53
        }
      ]
    },
    {
      "cell_type": "code",
      "metadata": {
        "id": "ZNv5kw_Ax_pD",
        "colab_type": "code",
        "colab": {
          "base_uri": "https://localhost:8080/",
          "height": 279
        },
        "outputId": "2ba183ba-362d-4dc8-c0de-1349f5fc86c8"
      },
      "source": [
        "from statsmodels.sandbox.regression.predstd import wls_prediction_std\n",
        "_, upper,lower = wls_prediction_std(model)# confidence intervals\n",
        "fig = plt.figure(4)\n",
        "plt.plot(x, y, 'g-',label=\"true\")\n",
        "plt.scatter(x_train,y_train,s=10)\n",
        "plt.plot(x_train,ypred,'r-',label=\n",
        "         'pred')\n",
        "plt.plot(x_train,upper,'--',label=\"Upper\") # confidence intervals\n",
        "plt.plot(x_train,lower,':',label=\"lower\")\n",
        "plt.xlabel('x')\n",
        "plt.ylabel('y')\n",
        "plt.legend(\n",
        "           loc='lower left',\n",
        "          \n",
        "           fontsize=8)\n",
        "plt.show()"
      ],
      "execution_count": 54,
      "outputs": [
        {
          "output_type": "display_data",
          "data": {
            "image/png": "[encoded data removed]",
            "text/plain": [
              "<Figure size 432x288 with 1 Axes>"
            ]
          },
          "metadata": {
            "tags": [],
            "needs_background": "light"
          }
        }
      ]
    },
    {
      "cell_type": "markdown",
      "metadata": {
        "id": "kJ1aZALf2Jhd",
        "colab_type": "text"
      },
      "source": [
        "使用3阶多项式拟合的曲线和正弦曲线非常相近"
      ]
    },
    {
      "cell_type": "markdown",
      "metadata": {
        "id": "rZuEczwt1Sth",
        "colab_type": "text"
      },
      "source": [
        "利用四阶多项式函数拟合数据"
      ]
    },
    {
      "cell_type": "code",
      "metadata": {
        "colab_type": "code",
        "id": "RDLgjCID02tV",
        "colab": {
          "base_uri": "https://localhost:8080/",
          "height": 540
        },
        "outputId": "4efc753a-df0d-45b5-aa6d-d7a17a50a2f3"
      },
      "source": [
        "from sklearn.preprocessing import PolynomialFeatures\n",
        "polynomial_features= PolynomialFeatures(degree=4)\n",
        "xp_4 = polynomial_features.fit_transform(x_train.reshape(-1,1))\n",
        "print(xp_4.shape)\n",
        "model = sm.OLS(y_train, xp_4).fit()\n",
        "ypred = model.predict(xp_4) \n",
        "\n",
        "ypred.shape\n",
        "model.summary()"
      ],
      "execution_count": 55,
      "outputs": [
        {
          "output_type": "stream",
          "text": [
            "(11, 5)\n"
          ],
          "name": "stdout"
        },
        {
          "output_type": "stream",
          "text": [
            "/usr/local/lib/python3.6/dist-packages/scipy/stats/stats.py:1535: UserWarning: kurtosistest only valid for n>=20 ... continuing anyway, n=11\n",
            "  \"anyway, n=%i\" % int(n))\n"
          ],
          "name": "stderr"
        },
        {
          "output_type": "execute_result",
          "data": {
            "text/html": [
              "<table class=\"simpletable\">\n",
              "<caption>OLS Regression Results</caption>\n",
              "<tr>\n",
              "  <th>Dep. Variable:</th>            <td>y</td>        <th>  R-squared:         </th> <td>   0.719</td>\n",
              "</tr>\n",
              "<tr>\n",
              "  <th>Model:</th>                   <td>OLS</td>       <th>  Adj. R-squared:    </th> <td>   0.532</td>\n",
              "</tr>\n",
              "<tr>\n",
              "  <th>Method:</th>             <td>Least Squares</td>  <th>  F-statistic:       </th> <td>   3.839</td>\n",
              "</tr>\n",
              "<tr>\n",
              "  <th>Date:</th>             <td>Fri, 17 Jul 2020</td> <th>  Prob (F-statistic):</th>  <td>0.0700</td> \n",
              "</tr>\n",
              "<tr>\n",
              "  <th>Time:</th>                 <td>03:56:19</td>     <th>  Log-Likelihood:    </th> <td> -7.6374</td>\n",
              "</tr>\n",
              "<tr>\n",
              "  <th>No. Observations:</th>      <td>    11</td>      <th>  AIC:               </th> <td>   25.27</td>\n",
              "</tr>\n",
              "<tr>\n",
              "  <th>Df Residuals:</th>          <td>     6</td>      <th>  BIC:               </th> <td>   27.26</td>\n",
              "</tr>\n",
              "<tr>\n",
              "  <th>Df Model:</th>              <td>     4</td>      <th>                     </th>     <td> </td>   \n",
              "</tr>\n",
              "<tr>\n",
              "  <th>Covariance Type:</th>      <td>nonrobust</td>    <th>                     </th>     <td> </td>   \n",
              "</tr>\n",
              "</table>\n",
              "<table class=\"simpletable\">\n",
              "<tr>\n",
              "    <td></td>       <th>coef</th>     <th>std err</th>      <th>t</th>      <th>P>|t|</th>  <th>[0.025</th>    <th>0.975]</th>  \n",
              "</tr>\n",
              "<tr>\n",
              "  <th>const</th> <td>    0.3368</td> <td>    0.628</td> <td>    0.536</td> <td> 0.611</td> <td>   -1.200</td> <td>    1.873</td>\n",
              "</tr>\n",
              "<tr>\n",
              "  <th>x1</th>    <td>   -0.0200</td> <td>    9.670</td> <td>   -0.002</td> <td> 0.998</td> <td>  -23.682</td> <td>   23.642</td>\n",
              "</tr>\n",
              "<tr>\n",
              "  <th>x2</th>    <td>   21.9078</td> <td>   42.362</td> <td>    0.517</td> <td> 0.624</td> <td>  -81.748</td> <td>  125.564</td>\n",
              "</tr>\n",
              "<tr>\n",
              "  <th>x3</th>    <td>  -62.9001</td> <td>   65.189</td> <td>   -0.965</td> <td> 0.372</td> <td> -222.411</td> <td>   96.611</td>\n",
              "</tr>\n",
              "<tr>\n",
              "  <th>x4</th>    <td>   40.4787</td> <td>   32.326</td> <td>    1.252</td> <td> 0.257</td> <td>  -38.620</td> <td>  119.578</td>\n",
              "</tr>\n",
              "</table>\n",
              "<table class=\"simpletable\">\n",
              "<tr>\n",
              "  <th>Omnibus:</th>       <td> 0.115</td> <th>  Durbin-Watson:     </th> <td>   3.295</td>\n",
              "</tr>\n",
              "<tr>\n",
              "  <th>Prob(Omnibus):</th> <td> 0.944</td> <th>  Jarque-Bera (JB):  </th> <td>   0.098</td>\n",
              "</tr>\n",
              "<tr>\n",
              "  <th>Skew:</th>          <td> 0.084</td> <th>  Prob(JB):          </th> <td>   0.952</td>\n",
              "</tr>\n",
              "<tr>\n",
              "  <th>Kurtosis:</th>      <td> 2.569</td> <th>  Cond. No.          </th> <td>    546.</td>\n",
              "</tr>\n",
              "</table><br/><br/>Warnings:<br/>[1] Standard Errors assume that the covariance matrix of the errors is correctly specified."
            ],
            "text/plain": [
              "<class 'statsmodels.iolib.summary.Summary'>\n",
              "\"\"\"\n",
              "                            OLS Regression Results                            \n",
              "==============================================================================\n",
              "Dep. Variable:                      y   R-squared:                       0.719\n",
              "Model:                            OLS   Adj. R-squared:                  0.532\n",
              "Method:                 Least Squares   F-statistic:                     3.839\n",
              "Date:                Fri, 17 Jul 2020   Prob (F-statistic):             0.0700\n",
              "Time:                        03:56:19   Log-Likelihood:                -7.6374\n",
              "No. Observations:                  11   AIC:                             25.27\n",
              "Df Residuals:                       6   BIC:                             27.26\n",
              "Df Model:                           4                                         \n",
              "Covariance Type:            nonrobust                                         \n",
              "==============================================================================\n",
              "                 coef    std err          t      P>|t|      [0.025      0.975]\n",
              "------------------------------------------------------------------------------\n",
              "const          0.3368      0.628      0.536      0.611      -1.200       1.873\n",
              "x1            -0.0200      9.670     -0.002      0.998     -23.682      23.642\n",
              "x2            21.9078     42.362      0.517      0.624     -81.748     125.564\n",
              "x3           -62.9001     65.189     -0.965      0.372    -222.411      96.611\n",
              "x4            40.4787     32.326      1.252      0.257     -38.620     119.578\n",
              "==============================================================================\n",
              "Omnibus:                        0.115   Durbin-Watson:                   3.295\n",
              "Prob(Omnibus):                  0.944   Jarque-Bera (JB):                0.098\n",
              "Skew:                           0.084   Prob(JB):                        0.952\n",
              "Kurtosis:                       2.569   Cond. No.                         546.\n",
              "==============================================================================\n",
              "\n",
              "Warnings:\n",
              "[1] Standard Errors assume that the covariance matrix of the errors is correctly specified.\n",
              "\"\"\""
            ]
          },
          "metadata": {
            "tags": []
          },
          "execution_count": 55
        }
      ]
    },
    {
      "cell_type": "code",
      "metadata": {
        "colab_type": "code",
        "id": "8XcX3u0J05WO",
        "colab": {
          "base_uri": "https://localhost:8080/",
          "height": 281
        },
        "outputId": "283edba7-15e9-4899-cdc2-38d26a405e09"
      },
      "source": [
        "from statsmodels.sandbox.regression.predstd import wls_prediction_std\n",
        "_, upper,lower = wls_prediction_std(model)# confidence intervals\n",
        "fig = plt.figure(5)\n",
        "plt.plot(x, y, 'g-',label=\"true\")\n",
        "plt.scatter(x_train,y_train,s=10)\n",
        "plt.plot(x_train,ypred,'r-',label=\n",
        "         'pred')\n",
        "plt.plot(x_train,upper,'--',label=\"Upper\") # confidence intervals\n",
        "plt.plot(x_train,lower,':',label=\"lower\")\n",
        "plt.xlabel('x')\n",
        "plt.ylabel('y')\n",
        "plt.legend(\n",
        "           loc='lower left',\n",
        "          \n",
        "           fontsize=8)\n",
        "plt.show()"
      ],
      "execution_count": 56,
      "outputs": [
        {
          "output_type": "display_data",
          "data": {
            "image/png": "[encoded data removed]",
            "text/plain": [
              "<Figure size 432x288 with 1 Axes>"
            ]
          },
          "metadata": {
            "tags": [],
            "needs_background": "light"
          }
        }
      ]
    },
    {
      "cell_type": "code",
      "metadata": {
        "id": "AWye3coo2dsy",
        "colab_type": "code",
        "colab": {}
      },
      "source": [
        ""
      ],
      "execution_count": null,
      "outputs": []
    },
    {
      "cell_type": "markdown",
      "metadata": {
        "id": "o-aNTo5g2gPP",
        "colab_type": "text"
      },
      "source": [
        "使用4阶多项式拟合的曲线能减小和训练数据点的距离，但是会比三阶多项式拟合的曲线更偏离正弦曲线一点"
      ]
    },
    {
      "cell_type": "markdown",
      "metadata": {
        "id": "z63BVVFp2eUX",
        "colab_type": "text"
      },
      "source": [
        ""
      ]
    },
    {
      "cell_type": "markdown",
      "metadata": {
        "id": "WeFVQPLh1ux6",
        "colab_type": "text"
      },
      "source": [
        "利用10阶多项式函数拟合数据"
      ]
    },
    {
      "cell_type": "code",
      "metadata": {
        "id": "U-_5wHl11bsP",
        "colab_type": "code",
        "colab": {
          "base_uri": "https://localhost:8080/",
          "height": 836
        },
        "outputId": "3216f624-8d92-4c75-bbe5-c5c8bac6ec6c"
      },
      "source": [
        "from sklearn.preprocessing import PolynomialFeatures\n",
        "polynomial_features= PolynomialFeatures(degree=10)\n",
        "xp_10 = polynomial_features.fit_transform(x_train.reshape(-1,1))\n",
        "print(xp_10.shape)\n",
        "model = sm.OLS(y_train, xp_10).fit()\n",
        "ypred = model.predict(xp_10) \n",
        "\n",
        "ypred.shape\n",
        "model.summary()"
      ],
      "execution_count": 57,
      "outputs": [
        {
          "output_type": "stream",
          "text": [
            "(11, 11)\n"
          ],
          "name": "stdout"
        },
        {
          "output_type": "stream",
          "text": [
            "/usr/local/lib/python3.6/dist-packages/scipy/stats/stats.py:1535: UserWarning: kurtosistest only valid for n>=20 ... continuing anyway, n=11\n",
            "  \"anyway, n=%i\" % int(n))\n",
            "/usr/local/lib/python3.6/dist-packages/statsmodels/regression/linear_model.py:1648: RuntimeWarning: divide by zero encountered in true_divide\n",
            "  return 1 - (np.divide(self.nobs - self.k_constant, self.df_resid)\n",
            "/usr/local/lib/python3.6/dist-packages/statsmodels/regression/linear_model.py:1649: RuntimeWarning: invalid value encountered in double_scalars\n",
            "  * (1 - self.rsquared))\n",
            "/usr/local/lib/python3.6/dist-packages/statsmodels/regression/linear_model.py:1665: RuntimeWarning: divide by zero encountered in double_scalars\n",
            "  return self.ssr/self.df_resid\n",
            "/usr/local/lib/python3.6/dist-packages/statsmodels/regression/linear_model.py:1578: RuntimeWarning: divide by zero encountered in double_scalars\n",
            "  return np.dot(wresid, wresid) / self.df_resid\n"
          ],
          "name": "stderr"
        },
        {
          "output_type": "execute_result",
          "data": {
            "text/html": [
              "<table class=\"simpletable\">\n",
              "<caption>OLS Regression Results</caption>\n",
              "<tr>\n",
              "  <th>Dep. Variable:</th>            <td>y</td>        <th>  R-squared:         </th> <td>   1.000</td>\n",
              "</tr>\n",
              "<tr>\n",
              "  <th>Model:</th>                   <td>OLS</td>       <th>  Adj. R-squared:    </th> <td>     nan</td>\n",
              "</tr>\n",
              "<tr>\n",
              "  <th>Method:</th>             <td>Least Squares</td>  <th>  F-statistic:       </th> <td>   0.000</td>\n",
              "</tr>\n",
              "<tr>\n",
              "  <th>Date:</th>             <td>Fri, 17 Jul 2020</td> <th>  Prob (F-statistic):</th>  <td>   nan</td> \n",
              "</tr>\n",
              "<tr>\n",
              "  <th>Time:</th>                 <td>03:56:37</td>     <th>  Log-Likelihood:    </th> <td>  206.53</td>\n",
              "</tr>\n",
              "<tr>\n",
              "  <th>No. Observations:</th>      <td>    11</td>      <th>  AIC:               </th> <td>  -391.1</td>\n",
              "</tr>\n",
              "<tr>\n",
              "  <th>Df Residuals:</th>          <td>     0</td>      <th>  BIC:               </th> <td>  -386.7</td>\n",
              "</tr>\n",
              "<tr>\n",
              "  <th>Df Model:</th>              <td>    10</td>      <th>                     </th>     <td> </td>   \n",
              "</tr>\n",
              "<tr>\n",
              "  <th>Covariance Type:</th>      <td>nonrobust</td>    <th>                     </th>     <td> </td>   \n",
              "</tr>\n",
              "</table>\n",
              "<table class=\"simpletable\">\n",
              "<tr>\n",
              "    <td></td>       <th>coef</th>     <th>std err</th>      <th>t</th>      <th>P>|t|</th>  <th>[0.025</th>    <th>0.975]</th>  \n",
              "</tr>\n",
              "<tr>\n",
              "  <th>const</th> <td>    0.4463</td> <td>      inf</td> <td>        0</td> <td>   nan</td> <td>      nan</td> <td>      nan</td>\n",
              "</tr>\n",
              "<tr>\n",
              "  <th>x1</th>    <td> 1111.7681</td> <td>      inf</td> <td>        0</td> <td>   nan</td> <td>      nan</td> <td>      nan</td>\n",
              "</tr>\n",
              "<tr>\n",
              "  <th>x2</th>    <td> -2.96e+04</td> <td>      inf</td> <td>       -0</td> <td>   nan</td> <td>      nan</td> <td>      nan</td>\n",
              "</tr>\n",
              "<tr>\n",
              "  <th>x3</th>    <td>  3.13e+05</td> <td>      inf</td> <td>        0</td> <td>   nan</td> <td>      nan</td> <td>      nan</td>\n",
              "</tr>\n",
              "<tr>\n",
              "  <th>x4</th>    <td> -1.77e+06</td> <td>      inf</td> <td>       -0</td> <td>   nan</td> <td>      nan</td> <td>      nan</td>\n",
              "</tr>\n",
              "<tr>\n",
              "  <th>x5</th>    <td> 6.001e+06</td> <td>      inf</td> <td>        0</td> <td>   nan</td> <td>      nan</td> <td>      nan</td>\n",
              "</tr>\n",
              "<tr>\n",
              "  <th>x6</th>    <td> -1.28e+07</td> <td>      inf</td> <td>       -0</td> <td>   nan</td> <td>      nan</td> <td>      nan</td>\n",
              "</tr>\n",
              "<tr>\n",
              "  <th>x7</th>    <td>  1.73e+07</td> <td>      inf</td> <td>        0</td> <td>   nan</td> <td>      nan</td> <td>      nan</td>\n",
              "</tr>\n",
              "<tr>\n",
              "  <th>x8</th>    <td>-1.439e+07</td> <td>      inf</td> <td>       -0</td> <td>   nan</td> <td>      nan</td> <td>      nan</td>\n",
              "</tr>\n",
              "<tr>\n",
              "  <th>x9</th>    <td> 6.714e+06</td> <td>      inf</td> <td>        0</td> <td>   nan</td> <td>      nan</td> <td>      nan</td>\n",
              "</tr>\n",
              "<tr>\n",
              "  <th>x10</th>   <td>-1.344e+06</td> <td>      inf</td> <td>       -0</td> <td>   nan</td> <td>      nan</td> <td>      nan</td>\n",
              "</tr>\n",
              "</table>\n",
              "<table class=\"simpletable\">\n",
              "<tr>\n",
              "  <th>Omnibus:</th>       <td> 3.685</td> <th>  Durbin-Watson:     </th> <td>   0.854</td>\n",
              "</tr>\n",
              "<tr>\n",
              "  <th>Prob(Omnibus):</th> <td> 0.158</td> <th>  Jarque-Bera (JB):  </th> <td>   1.338</td>\n",
              "</tr>\n",
              "<tr>\n",
              "  <th>Skew:</th>          <td>-0.829</td> <th>  Prob(JB):          </th> <td>   0.512</td>\n",
              "</tr>\n",
              "<tr>\n",
              "  <th>Kurtosis:</th>      <td> 3.410</td> <th>  Cond. No.          </th> <td>1.16e+08</td>\n",
              "</tr>\n",
              "</table><br/><br/>Warnings:<br/>[1] Standard Errors assume that the covariance matrix of the errors is correctly specified.<br/>[2] The smallest eigenvalue is 1.7e-15. This might indicate that there are<br/>strong multicollinearity problems or that the design matrix is singular."
            ],
            "text/plain": [
              "<class 'statsmodels.iolib.summary.Summary'>\n",
              "\"\"\"\n",
              "                            OLS Regression Results                            \n",
              "==============================================================================\n",
              "Dep. Variable:                      y   R-squared:                       1.000\n",
              "Model:                            OLS   Adj. R-squared:                    nan\n",
              "Method:                 Least Squares   F-statistic:                     0.000\n",
              "Date:                Fri, 17 Jul 2020   Prob (F-statistic):                nan\n",
              "Time:                        03:56:37   Log-Likelihood:                 206.53\n",
              "No. Observations:                  11   AIC:                            -391.1\n",
              "Df Residuals:                       0   BIC:                            -386.7\n",
              "Df Model:                          10                                         \n",
              "Covariance Type:            nonrobust                                         \n",
              "==============================================================================\n",
              "                 coef    std err          t      P>|t|      [0.025      0.975]\n",
              "------------------------------------------------------------------------------\n",
              "const          0.4463        inf          0        nan         nan         nan\n",
              "x1          1111.7681        inf          0        nan         nan         nan\n",
              "x2          -2.96e+04        inf         -0        nan         nan         nan\n",
              "x3           3.13e+05        inf          0        nan         nan         nan\n",
              "x4          -1.77e+06        inf         -0        nan         nan         nan\n",
              "x5          6.001e+06        inf          0        nan         nan         nan\n",
              "x6          -1.28e+07        inf         -0        nan         nan         nan\n",
              "x7           1.73e+07        inf          0        nan         nan         nan\n",
              "x8         -1.439e+07        inf         -0        nan         nan         nan\n",
              "x9          6.714e+06        inf          0        nan         nan         nan\n",
              "x10        -1.344e+06        inf         -0        nan         nan         nan\n",
              "==============================================================================\n",
              "Omnibus:                        3.685   Durbin-Watson:                   0.854\n",
              "Prob(Omnibus):                  0.158   Jarque-Bera (JB):                1.338\n",
              "Skew:                          -0.829   Prob(JB):                        0.512\n",
              "Kurtosis:                       3.410   Cond. No.                     1.16e+08\n",
              "==============================================================================\n",
              "\n",
              "Warnings:\n",
              "[1] Standard Errors assume that the covariance matrix of the errors is correctly specified.\n",
              "[2] The smallest eigenvalue is 1.7e-15. This might indicate that there are\n",
              "strong multicollinearity problems or that the design matrix is singular.\n",
              "\"\"\""
            ]
          },
          "metadata": {
            "tags": []
          },
          "execution_count": 57
        }
      ]
    },
    {
      "cell_type": "code",
      "metadata": {
        "id": "i1s4i6AJ1a2f",
        "colab_type": "code",
        "colab": {
          "base_uri": "https://localhost:8080/",
          "height": 282
        },
        "outputId": "2d504221-1f3a-445a-c46b-adb47ad99604"
      },
      "source": [
        "from statsmodels.sandbox.regression.predstd import wls_prediction_std\n",
        "_, upper,lower = wls_prediction_std(model)# confidence intervals\n",
        "fig = plt.figure(6)\n",
        "plt.plot(x_train,upper,'--',label=\"Upper\") # confidence intervals\n",
        "plt.plot(x_train,lower,':',label=\"lower\")\n",
        "plt.plot(x, y, 'g-',label=\"true\")\n",
        "plt.scatter(x_train,y_train,s=10)\n",
        "plt.plot(x_train,ypred,'r-',label=\n",
        "         'pred')\n",
        "\n",
        "plt.xlabel('x')\n",
        "plt.ylabel('y')\n",
        "plt.legend(\n",
        "           loc='lower left',\n",
        "          \n",
        "           fontsize=8)\n",
        "plt.show()"
      ],
      "execution_count": 60,
      "outputs": [
        {
          "output_type": "display_data",
          "data": {
            "image/png": "[encoded data removed]",
            "text/plain": [
              "<Figure size 432x288 with 1 Axes>"
            ]
          },
          "metadata": {
            "tags": [],
            "needs_background": "light"
          }
        }
      ]
    },
    {
      "cell_type": "markdown",
      "metadata": {
        "id": "NRuWqlzw1y2k",
        "colab_type": "text"
      },
      "source": [
        "使用10阶多项式虽然对训练数据拟合的非常好，但是拟合的曲线远远偏离正弦曲线"
      ]
    },
    {
      "cell_type": "markdown",
      "metadata": {
        "id": "GKpNGOZy7C_u",
        "colab_type": "text"
      },
      "source": [
        "综上所述，使用4阶10阶会过拟合，一阶二阶欠拟合，使用3阶多项式效果最好"
      ]
    }
  ]
}