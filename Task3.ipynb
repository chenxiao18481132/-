{
  "nbformat": 4,
  "nbformat_minor": 0,
  "metadata": {
    "colab": {
      "name": "Task3.ipynb",
      "provenance": []
    },
    "kernelspec": {
      "name": "python3",
      "display_name": "Python 3"
    }
  },
  "cells": [
    {
      "cell_type": "code",
      "metadata": {
        "id": "7-ZxiKFtphgq",
        "colab_type": "code",
        "colab": {
          "base_uri": "https://localhost:8080/",
          "height": 72
        },
        "outputId": "bbff8a42-b4e6-45b4-9793-3925c74fc3e6"
      },
      "source": [
        "import random\n",
        "import numpy as np\n",
        "import matplotlib.pyplot as plt\n",
        "\n",
        "import statsmodels.api as sm\n",
        "from sklearn.model_selection import KFold  # 交叉验证\n",
        "from sklearn.metrics import mean_squared_error  # 计算均方误差函数\n",
        "\n",
        "%matplotlib inline"
      ],
      "execution_count": 1,
      "outputs": [
        {
          "output_type": "stream",
          "text": [
            "/usr/local/lib/python3.6/dist-packages/statsmodels/tools/_testing.py:19: FutureWarning: pandas.util.testing is deprecated. Use the functions in the public API at pandas.testing instead.\n",
            "  import pandas.util.testing as tm\n"
          ],
          "name": "stderr"
        }
      ]
    },
    {
      "cell_type": "markdown",
      "metadata": {
        "id": "9MiOGpCe9lmp",
        "colab_type": "text"
      },
      "source": [
        "# 利用一至五阶多项式函数拟合正弦曲线，利用均方误差作为评价指标，选择出最合适的阶数"
      ]
    },
    {
      "cell_type": "code",
      "metadata": {
        "id": "oLHeszJZprrV",
        "colab_type": "code",
        "colab": {}
      },
      "source": [
        "x = np.arange(0, 1.01, 0.01)\n",
        "f = lambda z: np.sin(2*np.pi*z)\n",
        "\n",
        "y_truth = f(x)\n",
        "\n",
        "np.random.seed(247)\n",
        "y_ob = f(x) + np.random.normal(0, 0.1, len(x))\n",
        "\n",
        "# 打乱数组顺序\n",
        "shuffle_index = np.arange(len(x))\n",
        "random.shuffle(shuffle_index)\n",
        "\n",
        "shuffle_x = x[shuffle_index]\n",
        "shuffle_y_truth = y_truth[shuffle_index]\n",
        "shuffle_y_ob = y_ob[shuffle_index]\n",
        "\n",
        "KF = KFold(n_splits=5)  # 用于交叉验证"
      ],
      "execution_count": 189,
      "outputs": []
    },
    {
      "cell_type": "markdown",
      "metadata": {
        "id": "b8R9cOLZDuND",
        "colab_type": "text"
      },
      "source": [
        "一次多项式"
      ]
    },
    {
      "cell_type": "code",
      "metadata": {
        "id": "R7yxMRU8qhn4",
        "colab_type": "code",
        "colab": {
          "base_uri": "https://localhost:8080/",
          "height": 52
        },
        "outputId": "2c58867b-8374-4c90-9c3b-9925d3a7be55"
      },
      "source": [
        "mse_1 = []\n",
        "\n",
        "X_1 = sm.add_constant(shuffle_x)\n",
        "\n",
        "for train_index, test_index in KF.split(shuffle_x):\n",
        "    model = sm.OLS(shuffle_y_ob[train_index],X_1[train_index, :])\n",
        "    result = model.fit()\n",
        "    predict = X_1[test_index, :].dot(result.params.T)\n",
        "    mse_ = mean_squared_error(shuffle_y_truth[test_index], predict)\n",
        "    mse_1.append(mse_)\n",
        "\n",
        "print(mse_1)\n",
        "print(\"在一次幂下，经过5折交叉验证，平均均方误差为:%0.4f\"%(sum(mse_1)/len(mse_1)))"
      ],
      "execution_count": 195,
      "outputs": [
        {
          "output_type": "stream",
          "text": [
            "[0.23511618596824185, 0.16003139053789375, 0.20536456972859565, 0.1915496920321571, 0.238961526698079]\n",
            "在一次幂下，经过5折交叉验证，平均均方误差为:0.2062\n"
          ],
          "name": "stdout"
        }
      ]
    },
    {
      "cell_type": "code",
      "metadata": {
        "id": "20unlF4F95QB",
        "colab_type": "code",
        "colab": {
          "base_uri": "https://localhost:8080/",
          "height": 279
        },
        "outputId": "98378012-8f25-474f-f4f7-39ef116423b3"
      },
      "source": [
        "model = sm.OLS(shuffle_y_ob,X_1)\n",
        "result = model.fit()\n",
        "predict = X_1.dot(result.params.T)\n",
        "fig = plt.figure(1)\n",
        "plt.plot(x, y_truth, 'g-',label=\"True\")  # 绘制正弦图像\n",
        "plt.scatter(x,y_ob,s=10)  # 绘制观测样本点\n",
        "plt.plot(shuffle_x, predict, 'r-',label=\"Pred\")#预测曲线\n",
        "plt.xlabel('x')\n",
        "plt.ylabel('y')\n",
        "plt.legend()\n",
        "plt.show()"
      ],
      "execution_count": 196,
      "outputs": [
        {
          "output_type": "display_data",
          "data": {
            "image/png": "[encoded data removed]",
            "text/plain": [
              "<Figure size 432x288 with 1 Axes>"
            ]
          },
          "metadata": {
            "tags": [],
            "needs_background": "light"
          }
        }
      ]
    },
    {
      "cell_type": "markdown",
      "metadata": {
        "id": "1NsfW6CMDnKG",
        "colab_type": "text"
      },
      "source": [
        "二次多项式"
      ]
    },
    {
      "cell_type": "code",
      "metadata": {
        "id": "a13VUFgUtXap",
        "colab_type": "code",
        "colab": {
          "base_uri": "https://localhost:8080/",
          "height": 35
        },
        "outputId": "3fd9dbb1-673f-4e4c-c16a-4a83cc0f2391"
      },
      "source": [
        "from sklearn.preprocessing import PolynomialFeatures\n",
        "polynomial_features= PolynomialFeatures(degree=2)\n",
        "X_2 = polynomial_features.fit_transform(shuffle_x.reshape(-1,1))#2阶多项式\n",
        "print(\"The dimension of the design matrix:\",X_2.shape)  "
      ],
      "execution_count": 197,
      "outputs": [
        {
          "output_type": "stream",
          "text": [
            "The dimension of the design matrix: (101, 3)\n"
          ],
          "name": "stdout"
        }
      ]
    },
    {
      "cell_type": "code",
      "metadata": {
        "id": "ImCCHp-b_Zkf",
        "colab_type": "code",
        "colab": {
          "base_uri": "https://localhost:8080/",
          "height": 297
        },
        "outputId": "d285f242-b41b-413a-c9e0-d2e196a88a82"
      },
      "source": [
        "\n",
        "polynomial_features= PolynomialFeatures(degree=2)\n",
        "xp = polynomial_features.fit_transform(x.reshape(-1,1))\n",
        "print(xp.shape)\n",
        "model = sm.OLS(y_ob, xp).fit()\n",
        "ypred = model.predict(xp) \n",
        "\n",
        "\n",
        "fig = plt.figure(2)\n",
        "plt.plot(x, y_truth, 'g-',label=\"True\")  # 绘制正弦图像\n",
        "plt.scatter(x,y_ob,s=10)  # 绘制观测样本点\n",
        "plt.plot(x, ypred, 'r-',label=\"Pred\")#预测曲线\n",
        "plt.xlabel('x')\n",
        "plt.ylabel('y')\n",
        "plt.legend()\n",
        "plt.show()"
      ],
      "execution_count": 198,
      "outputs": [
        {
          "output_type": "stream",
          "text": [
            "(101, 3)\n"
          ],
          "name": "stdout"
        },
        {
          "output_type": "display_data",
          "data": {
            "image/png": "[encoded data removed]",
            "text/plain": [
              "<Figure size 432x288 with 1 Axes>"
            ]
          },
          "metadata": {
            "tags": [],
            "needs_background": "light"
          }
        }
      ]
    },
    {
      "cell_type": "code",
      "metadata": {
        "id": "MnB3Gu4vt4ah",
        "colab_type": "code",
        "colab": {
          "base_uri": "https://localhost:8080/",
          "height": 52
        },
        "outputId": "ff5c51dc-1ad0-4790-bd27-814228ebefc4"
      },
      "source": [
        "mse_2 = []\n",
        "\n",
        "\n",
        "\n",
        "for train_index, test_index in KF.split(shuffle_x):\n",
        "    model = sm.OLS(shuffle_y_ob[train_index],X_2[train_index, :])\n",
        "    result = model.fit()\n",
        "    predict = X_2[test_index, :].dot(result.params.T)\n",
        "    mse_ = mean_squared_error(shuffle_y_truth[test_index], predict)\n",
        "    mse_2.append(mse_)\n",
        "\n",
        "print(mse_2)\n",
        "print(\"在2次幂下，经过5折交叉验证，平均均方误差为:%0.4f\"%(sum(mse_2)/len(mse_2)))"
      ],
      "execution_count": 199,
      "outputs": [
        {
          "output_type": "stream",
          "text": [
            "[0.27858324393466966, 0.17381002366684942, 0.260352062723063, 0.19097474372471632, 0.23937288476625498]\n",
            "在2次幂下，经过5折交叉验证，平均均方误差为:0.2286\n"
          ],
          "name": "stdout"
        }
      ]
    },
    {
      "cell_type": "markdown",
      "metadata": {
        "id": "ymGXvg8uDgs0",
        "colab_type": "text"
      },
      "source": [
        "三次多项式"
      ]
    },
    {
      "cell_type": "code",
      "metadata": {
        "id": "Nmup5ELMCxPl",
        "colab_type": "code",
        "colab": {
          "base_uri": "https://localhost:8080/",
          "height": 297
        },
        "outputId": "e25776cc-970c-425d-ed7c-bd3e55cec561"
      },
      "source": [
        "\n",
        "polynomial_features= PolynomialFeatures(degree=3)\n",
        "xp = polynomial_features.fit_transform(x.reshape(-1,1))\n",
        "print(xp.shape)\n",
        "model = sm.OLS(y_ob, xp).fit()\n",
        "ypred = model.predict(xp) \n",
        "\n",
        "\n",
        "fig = plt.figure(2)\n",
        "plt.plot(x, y_truth, 'g-',label=\"True\")  # 绘制正弦图像\n",
        "plt.scatter(x,y_ob,s=10)  # 绘制观测样本点\n",
        "plt.plot(x, ypred, 'r-',label=\"Pred\")#预测曲线\n",
        "plt.xlabel('x')\n",
        "plt.ylabel('y')\n",
        "plt.legend()\n",
        "plt.show()"
      ],
      "execution_count": 200,
      "outputs": [
        {
          "output_type": "stream",
          "text": [
            "(101, 4)\n"
          ],
          "name": "stdout"
        },
        {
          "output_type": "display_data",
          "data": {
            "image/png": "[encoded data removed]",
            "text/plain": [
              "<Figure size 432x288 with 1 Axes>"
            ]
          },
          "metadata": {
            "tags": [],
            "needs_background": "light"
          }
        }
      ]
    },
    {
      "cell_type": "code",
      "metadata": {
        "id": "Qgmh8QWZuT6k",
        "colab_type": "code",
        "colab": {
          "base_uri": "https://localhost:8080/",
          "height": 35
        },
        "outputId": "0b8d0d74-f368-4581-afbe-dd33674b9cd0"
      },
      "source": [
        "\n",
        "polynomial_features= PolynomialFeatures(degree=3)\n",
        "X_3 = polynomial_features.fit_transform(shuffle_x.reshape(-1,1))#3阶多项式\n",
        "print(\"The dimension of the design matrix:\",X_3.shape)  "
      ],
      "execution_count": 201,
      "outputs": [
        {
          "output_type": "stream",
          "text": [
            "The dimension of the design matrix: (101, 4)\n"
          ],
          "name": "stdout"
        }
      ]
    },
    {
      "cell_type": "code",
      "metadata": {
        "id": "TN6N2UIbuacJ",
        "colab_type": "code",
        "colab": {
          "base_uri": "https://localhost:8080/",
          "height": 52
        },
        "outputId": "beeeb2c6-c18f-4b4b-cf3d-3dbe79115542"
      },
      "source": [
        "mse_3 = []\n",
        "\n",
        "\n",
        "\n",
        "for train_index, test_index in KF.split(shuffle_x):\n",
        "    model = sm.OLS(shuffle_y_ob[train_index],X_3[train_index, :])\n",
        "    result = model.fit()\n",
        "    predict = X_3[test_index, :].dot(result.params.T)\n",
        "    mse_ = mean_squared_error(shuffle_y_truth[test_index], predict)\n",
        "    mse_3.append(mse_)\n",
        "\n",
        "print(mse_3)\n",
        "print(\"在3次幂下，经过5折交叉验证，平均均方误差为:%0.4f\"%(sum(mse_3)/len(mse_3)))"
      ],
      "execution_count": 202,
      "outputs": [
        {
          "output_type": "stream",
          "text": [
            "[0.010267565801531155, 0.00378331413577467, 0.005208083242114592, 0.006019440761704112, 0.005941510134641269]\n",
            "在3次幂下，经过5折交叉验证，平均均方误差为:0.0062\n"
          ],
          "name": "stdout"
        }
      ]
    },
    {
      "cell_type": "markdown",
      "metadata": {
        "id": "i5Z2pFE5DPqF",
        "colab_type": "text"
      },
      "source": [
        "四次多项式"
      ]
    },
    {
      "cell_type": "code",
      "metadata": {
        "id": "dqJXYkSzDKdj",
        "colab_type": "code",
        "colab": {
          "base_uri": "https://localhost:8080/",
          "height": 297
        },
        "outputId": "52fcefea-491f-4a0a-b157-b5404c105850"
      },
      "source": [
        "polynomial_features= PolynomialFeatures(degree=4)\n",
        "xp = polynomial_features.fit_transform(x.reshape(-1,1))\n",
        "print(xp.shape)\n",
        "model = sm.OLS(y_ob, xp).fit()\n",
        "ypred = model.predict(xp) \n",
        "\n",
        "\n",
        "fig = plt.figure(2)\n",
        "plt.plot(x, y_truth, 'g-',label=\"True\")  # 绘制正弦图像\n",
        "plt.scatter(x,y_ob,s=10)  # 绘制观测样本点\n",
        "plt.plot(x, ypred, 'r-',label=\"Pred\")#预测曲线\n",
        "plt.xlabel('x')\n",
        "plt.ylabel('y')\n",
        "plt.legend()\n",
        "plt.show()"
      ],
      "execution_count": 203,
      "outputs": [
        {
          "output_type": "stream",
          "text": [
            "(101, 5)\n"
          ],
          "name": "stdout"
        },
        {
          "output_type": "display_data",
          "data": {
            "image/png": "[encoded data removed]",
            "text/plain": [
              "<Figure size 432x288 with 1 Axes>"
            ]
          },
          "metadata": {
            "tags": [],
            "needs_background": "light"
          }
        }
      ]
    },
    {
      "cell_type": "code",
      "metadata": {
        "id": "32ZGenlPut3k",
        "colab_type": "code",
        "colab": {
          "base_uri": "https://localhost:8080/",
          "height": 70
        },
        "outputId": "b2a4adda-1931-4b63-d55b-db55329f1671"
      },
      "source": [
        "\n",
        "polynomial_features= PolynomialFeatures(degree=4)\n",
        "X_4 = polynomial_features.fit_transform(shuffle_x.reshape(-1,1))#4阶多项式\n",
        "print(\"The dimension of the design matrix:\",X_4.shape)  \n",
        "mse_4 = []\n",
        "\n",
        "\n",
        "\n",
        "for train_index, test_index in KF.split(shuffle_x):\n",
        "    model = sm.OLS(shuffle_y_ob[train_index],X_4[train_index, :])\n",
        "    result = model.fit()\n",
        "    predict = X_4[test_index, :].dot(result.params.T)\n",
        "    mse_ = mean_squared_error(shuffle_y_truth[test_index], predict)\n",
        "    mse_4.append(mse_)\n",
        "\n",
        "print(mse_4)\n",
        "print(\"在4次幂下，经过5折交叉验证，平均均方误差为:%0.4f\"%(sum(mse_4)/len(mse_4)))"
      ],
      "execution_count": 204,
      "outputs": [
        {
          "output_type": "stream",
          "text": [
            "The dimension of the design matrix: (101, 5)\n",
            "[0.015156274170891002, 0.0040008722460215355, 0.0058511104584505706, 0.0061234893574683424, 0.007019275249573661]\n",
            "在4次幂下，经过5折交叉验证，平均均方误差为:0.0076\n"
          ],
          "name": "stdout"
        }
      ]
    },
    {
      "cell_type": "markdown",
      "metadata": {
        "id": "azFpa8NUDWgc",
        "colab_type": "text"
      },
      "source": [
        "5次多项式"
      ]
    },
    {
      "cell_type": "code",
      "metadata": {
        "id": "DHH0QI5CDYdc",
        "colab_type": "code",
        "colab": {
          "base_uri": "https://localhost:8080/",
          "height": 297
        },
        "outputId": "3057f49c-7289-4c98-ebc9-802bb02a652c"
      },
      "source": [
        "polynomial_features= PolynomialFeatures(degree=5)\n",
        "xp = polynomial_features.fit_transform(x.reshape(-1,1))\n",
        "print(xp.shape)\n",
        "model = sm.OLS(y_ob, xp).fit()\n",
        "ypred = model.predict(xp) \n",
        "\n",
        "\n",
        "fig = plt.figure(2)\n",
        "plt.plot(x, y_truth, 'g-',label=\"True\")  # 绘制正弦图像\n",
        "plt.scatter(x,y_ob,s=10)  # 绘制观测样本点\n",
        "plt.plot(x, ypred, 'r-',label=\"Pred\")#预测曲线\n",
        "plt.xlabel('x')\n",
        "plt.ylabel('y')\n",
        "plt.legend()\n",
        "plt.show()"
      ],
      "execution_count": 205,
      "outputs": [
        {
          "output_type": "stream",
          "text": [
            "(101, 6)\n"
          ],
          "name": "stdout"
        },
        {
          "output_type": "display_data",
          "data": {
            "image/png": "[encoded data removed]",
            "text/plain": [
              "<Figure size 432x288 with 1 Axes>"
            ]
          },
          "metadata": {
            "tags": [],
            "needs_background": "light"
          }
        }
      ]
    },
    {
      "cell_type": "code",
      "metadata": {
        "id": "ZiG2cHtPvbJV",
        "colab_type": "code",
        "colab": {
          "base_uri": "https://localhost:8080/",
          "height": 70
        },
        "outputId": "c4c6d7f6-a0f0-455b-8533-787b39426ec7"
      },
      "source": [
        "\n",
        "polynomial_features= PolynomialFeatures(degree=5)\n",
        "X_5 = polynomial_features.fit_transform(shuffle_x.reshape(-1,1))#4阶多项式\n",
        "print(\"The dimension of the design matrix:\",X_5.shape)  \n",
        "mse_5 = []\n",
        "\n",
        "\n",
        "\n",
        "for train_index, test_index in KF.split(shuffle_x):\n",
        "    model = sm.OLS(shuffle_y_ob[train_index],X_5[train_index, :])\n",
        "    result = model.fit()\n",
        "    predict = X_5[test_index, :].dot(result.params.T)\n",
        "    mse_ = mean_squared_error(shuffle_y_truth[test_index], predict)\n",
        "    mse_5.append(mse_)\n",
        "\n",
        "print(mse_5)\n",
        "print(\"在5次幂下，经过5折交叉验证，平均均方误差为:%0.4f\"%(sum(mse_5)/len(mse_5)))"
      ],
      "execution_count": 206,
      "outputs": [
        {
          "output_type": "stream",
          "text": [
            "The dimension of the design matrix: (101, 6)\n",
            "[0.0013295766288100599, 0.0016497345818805918, 0.0017589789297876208, 0.00134718424837357, 0.0025746915650556148]\n",
            "在5次幂下，经过5折交叉验证，平均均方误差为:0.0017\n"
          ],
          "name": "stdout"
        }
      ]
    },
    {
      "cell_type": "markdown",
      "metadata": {
        "id": "JkC8gQgj8tN4",
        "colab_type": "text"
      },
      "source": [
        "样本量为101时，在5次幂下，经过5折交叉验证平均均方误差最小。所以选择5阶多项式"
      ]
    },
    {
      "cell_type": "markdown",
      "metadata": {
        "id": "h50UY35k6Zae",
        "colab_type": "text"
      },
      "source": [
        "# 接下来我们研究样本量对交叉验证结果的影响。"
      ]
    },
    {
      "cell_type": "code",
      "metadata": {
        "id": "2elFL7WhvOf-",
        "colab_type": "code",
        "colab": {}
      },
      "source": [
        "#函数：求d阶多项式下5折交叉验证的平均均方误差\n",
        "def CV(x,y_ob,y_truth,d=1):# x为输入，y为观测的输出，y_truth为真值，d为多项式阶数。\n",
        "    \n",
        "    polynomial_features= PolynomialFeatures(degree=d)\n",
        "    X_ = polynomial_features.fit_transform(x.reshape(-1,1))#几阶多项式\n",
        "    print(\"The dimension of the design matrix:\",X_.shape)  \n",
        "    mse_all = []\n",
        "\n",
        "\n",
        "\n",
        "    for train_index, test_index in KF.split(x):\n",
        "        model = sm.OLS(y_ob[train_index],X_[train_index, :])\n",
        "        result = model.fit()\n",
        "        predict = X_[test_index, :].dot(result.params.T)\n",
        "        mse_ = mean_squared_error(y_truth[test_index], predict)\n",
        "        mse_all.append(mse_)\n",
        "\n",
        "    \n",
        "    print(\"在\",d,\"次幂下，经过5折交叉验证，平均均方误差为:%0.4f\"%(sum(mse_all)/len(mse_all)))\n",
        "    return sum(mse_all)/len(mse_all)\n",
        "    "
      ],
      "execution_count": 207,
      "outputs": []
    },
    {
      "cell_type": "code",
      "metadata": {
        "id": "NRLVAYfu0ygW",
        "colab_type": "code",
        "colab": {}
      },
      "source": [
        "#  给定样本产生的间隔调整样本量，返回交叉验证结果\n",
        "def n_effect(step):  #step:Spacing between values. It will affect the number of samples.\n",
        "    x = np.arange(0, 1.01, step)# \n",
        "    f = lambda z: np.sin(2*np.pi*z)\n",
        "    print(\"样本量为\",x.shape[0])\n",
        "    y_truth = f(x)\n",
        "\n",
        "    np.random.seed(247)\n",
        "    y_ob = f(x) + np.random.normal(0, 0.1, len(x))\n",
        "\n",
        "# 打乱数组顺序\n",
        "    shuffle_index = np.arange(len(x))\n",
        "    random.shuffle(shuffle_index)\n",
        "\n",
        "    shuffle_x = x[shuffle_index]\n",
        "    shuffle_y_truth = y_truth[shuffle_index]\n",
        "    shuffle_y_ob = y_ob[shuffle_index]\n",
        "\n",
        "    KF = KFold(n_splits=5)  # 用于交叉验证\n",
        "    error_for_each_d=[]\n",
        "    for i in range(1,6):\n",
        "    \n",
        "    \n",
        "        error_for_each_d.append(CV(shuffle_x,shuffle_y_ob,shuffle_y_truth,d=i))\n",
        "    choice_of_d= np.argmin(np.array(error_for_each_d))+1#选择使均方误差最小的阶数\n",
        "    print(\"当样本量为\",x.shape[0],\"时，在\",choice_of_d,\"次多项式下，5折交叉验证下平均均方误差最小\")"
      ],
      "execution_count": 112,
      "outputs": []
    },
    {
      "cell_type": "code",
      "metadata": {
        "id": "FjNKnIto53OZ",
        "colab_type": "code",
        "colab": {
          "base_uri": "https://localhost:8080/",
          "height": 230
        },
        "outputId": "d36616d1-67b7-447a-c4ae-6f40c509940e"
      },
      "source": [
        "n_effect(0.001)"
      ],
      "execution_count": 120,
      "outputs": [
        {
          "output_type": "stream",
          "text": [
            "样本量为 1010\n",
            "The dimension of the design matrix: (1010, 2)\n",
            "在 1 次幂下，经过5折交叉验证，平均均方误差为:0.2040\n",
            "The dimension of the design matrix: (1010, 3)\n",
            "在 2 次幂下，经过5折交叉验证，平均均方误差为:0.2038\n",
            "The dimension of the design matrix: (1010, 4)\n",
            "在 3 次幂下，经过5折交叉验证，平均均方误差为:0.0049\n",
            "The dimension of the design matrix: (1010, 5)\n",
            "在 4 次幂下，经过5折交叉验证，平均均方误差为:0.0049\n",
            "The dimension of the design matrix: (1010, 6)\n",
            "在 5 次幂下，经过5折交叉验证，平均均方误差为:0.0001\n",
            "当样本量为 1010 时，在 5 次多项式下，5折交叉验证下平均均方误差最小\n"
          ],
          "name": "stdout"
        }
      ]
    },
    {
      "cell_type": "code",
      "metadata": {
        "id": "g9GibLwe7j1U",
        "colab_type": "code",
        "colab": {
          "base_uri": "https://localhost:8080/",
          "height": 230
        },
        "outputId": "fd8deac4-edc3-4b51-a262-10a507da5613"
      },
      "source": [
        "n_effect(0.01)"
      ],
      "execution_count": 121,
      "outputs": [
        {
          "output_type": "stream",
          "text": [
            "样本量为 101\n",
            "The dimension of the design matrix: (101, 2)\n",
            "在 1 次幂下，经过5折交叉验证，平均均方误差为:0.2200\n",
            "The dimension of the design matrix: (101, 3)\n",
            "在 2 次幂下，经过5折交叉验证，平均均方误差为:0.2207\n",
            "The dimension of the design matrix: (101, 4)\n",
            "在 3 次幂下，经过5折交叉验证，平均均方误差为:0.0062\n",
            "The dimension of the design matrix: (101, 5)\n",
            "在 4 次幂下，经过5折交叉验证，平均均方误差为:0.0065\n",
            "The dimension of the design matrix: (101, 6)\n",
            "在 5 次幂下，经过5折交叉验证，平均均方误差为:0.0016\n",
            "当样本量为 101 时，在 5 次多项式下，5折交叉验证下平均均方误差最小\n"
          ],
          "name": "stdout"
        }
      ]
    },
    {
      "cell_type": "code",
      "metadata": {
        "id": "KPWxMQ1P7XDh",
        "colab_type": "code",
        "colab": {
          "base_uri": "https://localhost:8080/",
          "height": 230
        },
        "outputId": "36122fc0-fcd0-438e-8c9c-188dfe81576d"
      },
      "source": [
        "n_effect(0.02)"
      ],
      "execution_count": 122,
      "outputs": [
        {
          "output_type": "stream",
          "text": [
            "样本量为 51\n",
            "The dimension of the design matrix: (51, 2)\n",
            "在 1 次幂下，经过5折交叉验证，平均均方误差为:0.2127\n",
            "The dimension of the design matrix: (51, 3)\n",
            "在 2 次幂下，经过5折交叉验证，平均均方误差为:0.2246\n",
            "The dimension of the design matrix: (51, 4)\n",
            "在 3 次幂下，经过5折交叉验证，平均均方误差为:0.0070\n",
            "The dimension of the design matrix: (51, 5)\n",
            "在 4 次幂下，经过5折交叉验证，平均均方误差为:0.0091\n",
            "The dimension of the design matrix: (51, 6)\n",
            "在 5 次幂下，经过5折交叉验证，平均均方误差为:0.0013\n",
            "当样本量为 51 时，在 5 次多项式下，5折交叉验证下平均均方误差最小\n"
          ],
          "name": "stdout"
        }
      ]
    },
    {
      "cell_type": "code",
      "metadata": {
        "id": "0_44KaME7cZz",
        "colab_type": "code",
        "colab": {
          "base_uri": "https://localhost:8080/",
          "height": 230
        },
        "outputId": "a982e829-5ad0-4fff-a04a-e7e2fb0a4c57"
      },
      "source": [
        "n_effect(0.05)"
      ],
      "execution_count": 123,
      "outputs": [
        {
          "output_type": "stream",
          "text": [
            "样本量为 21\n",
            "The dimension of the design matrix: (21, 2)\n",
            "在 1 次幂下，经过5折交叉验证，平均均方误差为:0.3340\n",
            "The dimension of the design matrix: (21, 3)\n",
            "在 2 次幂下，经过5折交叉验证，平均均方误差为:0.3519\n",
            "The dimension of the design matrix: (21, 4)\n",
            "在 3 次幂下，经过5折交叉验证，平均均方误差为:0.0155\n",
            "The dimension of the design matrix: (21, 5)\n",
            "在 4 次幂下，经过5折交叉验证，平均均方误差为:0.0181\n",
            "The dimension of the design matrix: (21, 6)\n",
            "在 5 次幂下，经过5折交叉验证，平均均方误差为:0.0057\n",
            "当样本量为 21 时，在 5 次多项式下，5折交叉验证下平均均方误差最小\n"
          ],
          "name": "stdout"
        }
      ]
    },
    {
      "cell_type": "code",
      "metadata": {
        "id": "Kei69ck12PGP",
        "colab_type": "code",
        "colab": {
          "base_uri": "https://localhost:8080/",
          "height": 230
        },
        "outputId": "9b57f096-a1a3-4838-a645-0e85082b19dc"
      },
      "source": [
        "n_effect(0.1)"
      ],
      "execution_count": 124,
      "outputs": [
        {
          "output_type": "stream",
          "text": [
            "样本量为 11\n",
            "The dimension of the design matrix: (11, 2)\n",
            "在 1 次幂下，经过5折交叉验证，平均均方误差为:0.4346\n",
            "The dimension of the design matrix: (11, 3)\n",
            "在 2 次幂下，经过5折交叉验证，平均均方误差为:0.7835\n",
            "The dimension of the design matrix: (11, 4)\n",
            "在 3 次幂下，经过5折交叉验证，平均均方误差为:0.0500\n",
            "The dimension of the design matrix: (11, 5)\n",
            "在 4 次幂下，经过5折交叉验证，平均均方误差为:0.1077\n",
            "The dimension of the design matrix: (11, 6)\n",
            "在 5 次幂下，经过5折交叉验证，平均均方误差为:0.0520\n",
            "当样本量为 11 时，在 3 次多项式下，5折交叉验证下平均均方误差最小\n"
          ],
          "name": "stdout"
        }
      ]
    },
    {
      "cell_type": "code",
      "metadata": {
        "id": "LKKkuvwr3VkF",
        "colab_type": "code",
        "colab": {
          "base_uri": "https://localhost:8080/",
          "height": 230
        },
        "outputId": "8e68699e-4a9a-4827-ca74-7fc779e3fd91"
      },
      "source": [
        "n_effect(0.2)"
      ],
      "execution_count": 125,
      "outputs": [
        {
          "output_type": "stream",
          "text": [
            "样本量为 6\n",
            "The dimension of the design matrix: (6, 2)\n",
            "在 1 次幂下，经过5折交叉验证，平均均方误差为:0.7281\n",
            "The dimension of the design matrix: (6, 3)\n",
            "在 2 次幂下，经过5折交叉验证，平均均方误差为:3.1074\n",
            "The dimension of the design matrix: (6, 4)\n",
            "在 3 次幂下，经过5折交叉验证，平均均方误差为:0.0120\n",
            "The dimension of the design matrix: (6, 5)\n",
            "在 4 次幂下，经过5折交叉验证，平均均方误差为:0.1097\n",
            "The dimension of the design matrix: (6, 6)\n",
            "在 5 次幂下，经过5折交叉验证，平均均方误差为:0.1774\n",
            "当样本量为 6 时，在 3 次多项式下，5折交叉验证下平均均方误差最小\n"
          ],
          "name": "stdout"
        }
      ]
    },
    {
      "cell_type": "markdown",
      "metadata": {
        "id": "kcolcINIxvqq",
        "colab_type": "text"
      },
      "source": [
        "我们可以看到当样本量充足时，选择5阶多项式最好。当样本量不足时，更低阶多项式的MSE更小。这是因为此时样本量不足，不能很好的估计高阶多项式。"
      ]
    }
  ]
}