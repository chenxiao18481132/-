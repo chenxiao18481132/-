{
  "nbformat": 4,
  "nbformat_minor": 0,
  "metadata": {
    "colab": {
      "name": "task.ipynb",
      "provenance": []
    },
    "kernelspec": {
      "name": "python3",
      "display_name": "Python 3"
    }
  },
  "cells": [
    {
      "cell_type": "code",
      "metadata": {
        "id": "B7cMzg7TyIxm",
        "colab_type": "code",
        "colab": {}
      },
      "source": [
        "import numpy as np\n",
        "import pandas as pd\n",
        "import matplotlib.pyplot as plt\n",
        "\n",
        "from sklearn.metrics import confusion_matrix\n",
        "from sklearn.naive_bayes import MultinomialNB\n",
        "from sklearn.model_selection import train_test_split\n",
        "\n",
        "%matplotlib inline\n",
        "import warnings\n",
        "warnings.filterwarnings(\"ignore\")"
      ],
      "execution_count": 1,
      "outputs": []
    },
    {
      "cell_type": "code",
      "metadata": {
        "id": "VHpy21afye0Q",
        "colab_type": "code",
        "colab": {}
      },
      "source": [
        "data = pd.read_csv('DataClear.csv')\n",
        "\n",
        "# 将各个词汇的使用频数转换为0-1，0表示未出现某个词汇，而1表示出现了某个词汇\n",
        "data.iloc[:, 1:] = np.where(data.iloc[:, 1:]>=1, 1, 0)\n",
        "\n",
        "institution_name = data['单位名称'].unique()  #提取不同单位名称\n",
        "index=range(len(institution_name))\n",
        "\n",
        "data['单位名称'].replace(institution_name,index,inplace=True)#  替换单位名称为数字\n",
        "\n",
        "X = data.iloc[:, 1:].values\n",
        "y = data['单位名称'].values"
      ],
      "execution_count": 2,
      "outputs": []
    },
    {
      "cell_type": "markdown",
      "metadata": {
        "id": "omcl0bA22qrp",
        "colab_type": "text"
      },
      "source": [
        "朴素贝叶斯"
      ]
    },
    {
      "cell_type": "code",
      "metadata": {
        "id": "lEVBpXrJzNRh",
        "colab_type": "code",
        "colab": {
          "base_uri": "https://localhost:8080/",
          "height": 301
        },
        "outputId": "1ca3b2ef-c4d3-4ff4-fc75-fd48147e8d1b"
      },
      "source": [
        "X_train, X_test, y_train, y_test = train_test_split(X, y, test_size=0.33, random_state=42)\n",
        "from sklearn.naive_bayes import MultinomialNB\n",
        "clf = MultinomialNB()\n",
        "clf.fit(X_train, y_train)\n",
        "\n",
        "pred_test=clf.predict(X_test)\n",
        "from sklearn.metrics import accuracy_score,confusion_matrix\n",
        "print(\"测试准确率 is %.4f\" %accuracy_score(y_test,pred_test))\n",
        "print(\"混淆矩阵\")\n",
        "cm=confusion_matrix(y_test,pred_test)\n",
        "import seaborn as sns\n",
        "ax = sns.heatmap(cm, annot=True, fmt=\"d\")"
      ],
      "execution_count": 3,
      "outputs": [
        {
          "output_type": "stream",
          "text": [
            "测试准确率 is 0.9394\n",
            "混淆矩阵\n"
          ],
          "name": "stdout"
        },
        {
          "output_type": "display_data",
          "data": {
            "image/png": "[encoded data removed]",
            "text/plain": [
              "<Figure size 432x288 with 2 Axes>"
            ]
          },
          "metadata": {
            "tags": [],
            "needs_background": "light"
          }
        }
      ]
    },
    {
      "cell_type": "markdown",
      "metadata": {
        "id": "BEyWCq6F4Esf",
        "colab_type": "text"
      },
      "source": [
        "利用sklearn.discriminant_analysis.LinearDiscriminantAnalysis来拟合生成的两个高斯分布，来验证所推导的公式"
      ]
    },
    {
      "cell_type": "code",
      "metadata": {
        "id": "vvlBXYY74AfM",
        "colab_type": "code",
        "colab": {}
      },
      "source": [
        "import random\n",
        "from sklearn.discriminant_analysis import LinearDiscriminantAnalysis\n",
        "\n",
        "# 生成的数据为 (0, 0)为中心，协方差矩阵为单位阵的高斯分布\n",
        "# 和(2,2)为中心，协方差为单位阵的高斯分布\n",
        "cluster_1 = np.random.multivariate_normal([0, 0], np.diag([1, 1]), 500)\n",
        "cluster_2 = np.random.multivariate_normal([2, 2], np.diag([1, 1]), 500)\n",
        "\n",
        "label = np.asarray([0]*len(cluster_1) + [1]*len(cluster_2))\n",
        "LDA_data = np.row_stack([cluster_1, cluster_2])\n",
        "shuffle_index = np.arange(len(LDA_data))\n",
        "random.shuffle(shuffle_index)\n",
        "\n",
        "LDA_data = LDA_data[shuffle_index]\n",
        "label = label[shuffle_index]"
      ],
      "execution_count": 4,
      "outputs": []
    },
    {
      "cell_type": "code",
      "metadata": {
        "id": "5ouulqtA4OPU",
        "colab_type": "code",
        "colab": {}
      },
      "source": [
        "LDA = LinearDiscriminantAnalysis()\n",
        "result = LDA.fit(LDA_data, label)"
      ],
      "execution_count": 5,
      "outputs": []
    },
    {
      "cell_type": "code",
      "metadata": {
        "id": "iex0Gj95HjAZ",
        "colab_type": "code",
        "colab": {
          "base_uri": "https://localhost:8080/",
          "height": 52
        },
        "outputId": "83b1777b-b0ab-4a9d-8aa0-e2488d214bb1"
      },
      "source": [
        "pred=LDA.predict(LDA_data)\n",
        "print(\"准确率为\")\n",
        "accuracy_score(label,pred)"
      ],
      "execution_count": 6,
      "outputs": [
        {
          "output_type": "stream",
          "text": [
            "准确率为\n"
          ],
          "name": "stdout"
        },
        {
          "output_type": "execute_result",
          "data": {
            "text/plain": [
              "0.905"
            ]
          },
          "metadata": {
            "tags": []
          },
          "execution_count": 6
        }
      ]
    },
    {
      "cell_type": "code",
      "metadata": {
        "id": "6AwXoTdZ4Qy3",
        "colab_type": "code",
        "colab": {
          "base_uri": "https://localhost:8080/",
          "height": 35
        },
        "outputId": "445e0592-3fe8-48f0-ec30-2974699aeb67"
      },
      "source": [
        "print(result.coef_)  # 权重向量"
      ],
      "execution_count": 7,
      "outputs": [
        {
          "output_type": "stream",
          "text": [
            "[[1.94827073 1.95105865]]\n"
          ],
          "name": "stdout"
        }
      ]
    },
    {
      "cell_type": "code",
      "metadata": {
        "id": "FbvoTxqkRF8-",
        "colab_type": "code",
        "colab": {
          "base_uri": "https://localhost:8080/",
          "height": 35
        },
        "outputId": "6d1c09d5-e12b-4539-d487-ee188bd86b27"
      },
      "source": [
        "print(result.intercept_)"
      ],
      "execution_count": 8,
      "outputs": [
        {
          "output_type": "stream",
          "text": [
            "[-3.9263607]\n"
          ],
          "name": "stdout"
        }
      ]
    },
    {
      "cell_type": "code",
      "metadata": {
        "id": "G_1qO-Sa4Wfm",
        "colab_type": "code",
        "colab": {
          "base_uri": "https://localhost:8080/",
          "height": 265
        },
        "outputId": "e01874ae-18d2-4435-fded-d54a11adc5de"
      },
      "source": [
        "figure = plt.figure(1)\n",
        "\n",
        "plt.plot(LDA_data[label==0][:, 0], LDA_data[label==0][:, 1], 'r*')\n",
        "plt.plot(LDA_data[label==1][:, 0], LDA_data[label==1][:, 1], 'b.')\n",
        "\n",
        "\n",
        "\n",
        "def f(x):\n",
        "    y=-x*result.coef_[0][0]/result.coef_[0][1]-result.intercept_[0]/result.coef_[0][1]\n",
        "    return y\n",
        "x_axis = np.arange(-3.5, 5.5, 0.01)\n",
        "y=f(x_axis)\n",
        "plt.plot(x_axis, y, 'g-')#判别曲线\n",
        "plt.show()"
      ],
      "execution_count": 9,
      "outputs": [
        {
          "output_type": "display_data",
          "data": {
            "image/png": "[encoded data removed]",
            "text/plain": [
              "<Figure size 432x288 with 1 Axes>"
            ]
          },
          "metadata": {
            "tags": [],
            "needs_background": "light"
          }
        }
      ]
    },
    {
      "cell_type": "markdown",
      "metadata": {
        "id": "OBbEC6OASjcy",
        "colab_type": "text"
      },
      "source": [
        "自己编写程序实现LDA"
      ]
    },
    {
      "cell_type": "code",
      "metadata": {
        "id": "JwIybOkY7d1X",
        "colab_type": "code",
        "colab": {}
      },
      "source": [
        "from numpy.linalg import inv\n",
        "class LDA_model:\n",
        "\n",
        "    def __init__(self, n_components= 2):#默认2分类，可以调节参数进行多分类\n",
        "\n",
        "        self.n_components = n_components\n",
        "\n",
        "        self.means_ = None\n",
        "\n",
        "        self.covariances_ = None\n",
        "\n",
        "        self.weights_=None\n",
        "     \n",
        "         \n",
        "    def fit(self, X_train,y_train):#y_train输入 应该是数字   在0 到 self.n_compunets-1之间\n",
        "\n",
        "        # 获取一些必要的数据信息\n",
        "\n",
        "        n_samples, n_feature = X_train.shape\n",
        "\n",
        "      \n",
        "\n",
        "        # 均值，协方差, 权重\n",
        "\n",
        "        self.means_ = np.zeros((self.n_components, n_feature))\n",
        "        for i in range(self.n_components):\n",
        "            self.means_[i]=np.mean(X_train[y_train==i],axis=0)\n",
        "        self.covariances_ =np.zeros((n_feature,n_feature))\n",
        "        #print(self.covariances_ .shape)\n",
        "        N=[]\n",
        "        for i in range(self.n_components):\n",
        "            N.append(X_train[y_train==i].shape[0])\n",
        "            #print(np.cov(X_train[y_train==i]).shape)\n",
        "            self.covariances_ += N[i]*(np.cov(X_train[y_train==i].T))\n",
        "        self.covariances_ =self.covariances_/(sum(N)-self.n_components)\n",
        "        \n",
        "        self.weights_ = np.ones(self.n_components) / self.n_components\n",
        "\n",
        "\n",
        "        for k in range(self.n_components):\n",
        "            self.weights_[k] = N[k] / n_samples\n",
        "  \n",
        "\n",
        "    def predict(self, X_test):\n",
        "        n_samples=X_test.shape[0]\n",
        "        #### E-step，计算概率 ####\n",
        "        delta=np.zeros((n_samples,self.n_components))\n",
        "        #print(np.matmul(np.matmul(X_test,inv(self.covariances_)),self.means_[0]).shape)\n",
        "        for i in range(self.n_components):\n",
        "            delta[:,i]=np.matmul(np.matmul(X_test,inv(self.covariances_)),self.means_[i])-0.5*np.matmul(self.means_[i].reshape(1,-1),inv(self.covariances_)).dot(self.means_[i])+np.log(self.weights_[i])\n",
        "        pred=np.argmax(delta,1)\n",
        "        return pred\n",
        "        \n"
      ],
      "execution_count": 10,
      "outputs": []
    },
    {
      "cell_type": "code",
      "metadata": {
        "id": "a2jIkp0LCpgn",
        "colab_type": "code",
        "colab": {}
      },
      "source": [
        "lda=LDA_model()\n",
        "lda.fit(LDA_data, label)"
      ],
      "execution_count": 11,
      "outputs": []
    },
    {
      "cell_type": "code",
      "metadata": {
        "id": "a-1YYvhhEx-l",
        "colab_type": "code",
        "colab": {
          "base_uri": "https://localhost:8080/",
          "height": 52
        },
        "outputId": "ed9eaaa0-effe-472a-de70-65dc59c3a063"
      },
      "source": [
        "pred1=lda.predict(LDA_data)\n",
        "print(\"自写LDA准确率为\")\n",
        "accuracy_score(label,pred1)"
      ],
      "execution_count": 12,
      "outputs": [
        {
          "output_type": "stream",
          "text": [
            "自写LDA准确率为\n"
          ],
          "name": "stdout"
        },
        {
          "output_type": "execute_result",
          "data": {
            "text/plain": [
              "0.905"
            ]
          },
          "metadata": {
            "tags": []
          },
          "execution_count": 12
        }
      ]
    },
    {
      "cell_type": "code",
      "metadata": {
        "id": "rrj8_KLXEcIk",
        "colab_type": "code",
        "colab": {}
      },
      "source": [
        "coef_0=-0.5*np.matmul(lda.means_[0].reshape(1,-1),inv(lda.covariances_)).dot(lda.means_[0])+np.log(lda.weights_[0])+0.5*np.matmul(lda.means_[1].reshape(1,-1),inv(lda.covariances_)).dot(lda.means_[1])-np.log(lda.weights_[1])"
      ],
      "execution_count": 13,
      "outputs": []
    },
    {
      "cell_type": "code",
      "metadata": {
        "id": "EqsTFnHXRRig",
        "colab_type": "code",
        "colab": {
          "base_uri": "https://localhost:8080/",
          "height": 35
        },
        "outputId": "cf0ccc1a-657d-4799-8770-0f11b57f4743"
      },
      "source": [
        "coef_0#interpret"
      ],
      "execution_count": 14,
      "outputs": [
        {
          "output_type": "execute_result",
          "data": {
            "text/plain": [
              "array([3.91850798])"
            ]
          },
          "metadata": {
            "tags": []
          },
          "execution_count": 14
        }
      ]
    },
    {
      "cell_type": "code",
      "metadata": {
        "id": "JvegduAVI1fr",
        "colab_type": "code",
        "colab": {}
      },
      "source": [
        "coef_1=np.matmul(inv(lda.covariances_),lda.means_[0]-lda.means_[1])#权重向量"
      ],
      "execution_count": 15,
      "outputs": []
    },
    {
      "cell_type": "code",
      "metadata": {
        "id": "-uSWddchLUVV",
        "colab_type": "code",
        "colab": {
          "base_uri": "https://localhost:8080/",
          "height": 35
        },
        "outputId": "189c74ef-9c74-40e9-b446-faa08bcdb9de"
      },
      "source": [
        "coef_1"
      ],
      "execution_count": 16,
      "outputs": [
        {
          "output_type": "execute_result",
          "data": {
            "text/plain": [
              "array([-1.94437419, -1.94715654])"
            ]
          },
          "metadata": {
            "tags": []
          },
          "execution_count": 16
        }
      ]
    },
    {
      "cell_type": "code",
      "metadata": {
        "id": "bEzH6CR5JSUn",
        "colab_type": "code",
        "colab": {
          "base_uri": "https://localhost:8080/",
          "height": 52
        },
        "outputId": "27dec235-769d-4b6e-e626-5ca8c63f0998"
      },
      "source": [
        "print(\"和sklearn.discriminant_analysis.LinearDiscriminantAnalysis预测结果的匹配程度为\")\n",
        "print(accuracy_score(pred,pred1)*100,\"%\")"
      ],
      "execution_count": 17,
      "outputs": [
        {
          "output_type": "stream",
          "text": [
            "和sklearn.discriminant_analysis.LinearDiscriminantAnalysis预测结果的匹配程度为\n",
            "100.0 %\n"
          ],
          "name": "stdout"
        }
      ]
    },
    {
      "cell_type": "markdown",
      "metadata": {
        "id": "zPR5kVBfNClx",
        "colab_type": "text"
      },
      "source": [
        "对于训练集的预测和python里的LDA完全一样"
      ]
    },
    {
      "cell_type": "code",
      "metadata": {
        "id": "X-USOO5vQn-x",
        "colab_type": "code",
        "colab": {
          "base_uri": "https://localhost:8080/",
          "height": 265
        },
        "outputId": "b53290c7-c769-4e87-ff4b-a9ed17137f90"
      },
      "source": [
        "figure = plt.figure(2)\n",
        "\n",
        "plt.plot(LDA_data[label==0][:, 0], LDA_data[label==0][:, 1], 'r*')\n",
        "plt.plot(LDA_data[label==1][:, 0], LDA_data[label==1][:, 1], 'b.')\n",
        "\n",
        "\n",
        "def f(x):\n",
        "    y=-x*coef_1[0]/coef_1[1]-coef_0/coef_1[1]\n",
        "    return y\n",
        "x_axis = np.arange(-3.5, 5.5, 0.01)\n",
        "y=f(x_axis)\n",
        "plt.plot(x_axis, y, 'g-')#判别曲线\n",
        "plt.show()"
      ],
      "execution_count": 18,
      "outputs": [
        {
          "output_type": "display_data",
          "data": {
            "image/png": "[encoded data removed]",
            "text/plain": [
              "<Figure size 432x288 with 1 Axes>"
            ]
          },
          "metadata": {
            "tags": [],
            "needs_background": "light"
          }
        }
      ]
    }
  ]
}